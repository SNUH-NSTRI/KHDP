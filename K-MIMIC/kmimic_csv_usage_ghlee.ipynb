{
 "cells": [
  {
   "cell_type": "markdown",
   "id": "ae184669",
   "metadata": {},
   "source": [
    "# Mortality"
   ]
  },
  {
   "cell_type": "markdown",
   "id": "d3363b77",
   "metadata": {},
   "source": [
    "## Hospital mortality"
   ]
  },
  {
   "cell_type": "code",
   "execution_count": null,
   "id": "464ac24a",
   "metadata": {},
   "outputs": [],
   "source": [
    "import pandas as pd\n",
    "import numpy as np\n",
    "import re\n",
    "from glob import glob\n",
    "import copy\n",
    "\n",
    "file_names = glob('/mnt/dataset/dataset-2090348533109489664/EMR/*/PATIENTS.csv')\n",
    "\n",
    "total_patients = {}\n",
    "\n",
    "for file_name in file_names:\n",
    "    _, _, _, _, _, hospital, DATE, _ = file_name.split('/')\n",
    "\n",
    "    if hospital not in total_patients:\n",
    "        total_patients[hospital] = pd.DataFrame()\n",
    "        \n",
    "    patients_df = pd.read_csv(file_name).drop_duplicates(['SUBJECT_ID'], ignore_index=True)\n",
    "    \n",
    "    total_patients[hospital] = pd.concat([total_patients[hospital], patients_df], ignore_index=True).drop_duplicates(['SUBJECT_ID'], ignore_index=True)"
   ]
  },
  {
   "cell_type": "code",
   "execution_count": null,
   "id": "e1562c14",
   "metadata": {},
   "outputs": [],
   "source": [
    "total_rows = 0\n",
    "total_DOD_count = 0\n",
    "\n",
    "patient_dict = {}\n",
    "\n",
    "for hospital, df in total_patients.items():\n",
    "    patients_rows = len(df)\n",
    "    total_rows += patients_rows\n",
    "    DOD_count = len(df['DOD'].dropna())\n",
    "    total_DOD_count += DOD_count\n",
    "    ratio = DOD_count / patients_rows if patients_rows > 0 else 0\n",
    "    \n",
    "    print(f'{hospital}: n-{DOD_count}, ratio-{ratio}')\n",
    "\n",
    "    \n",
    "ratio = total_DOD_count / total_rows if total_rows > 0 else 0\n",
    "print(f'total patients: {total_rows}')\n",
    "print(f'\\ntotal: n-{total_DOD_count}, ratio-{ratio}')"
   ]
  },
  {
   "cell_type": "markdown",
   "id": "6385ecc6",
   "metadata": {},
   "source": [
    "## ICU mortality"
   ]
  },
  {
   "cell_type": "code",
   "execution_count": null,
   "id": "b125eb9f",
   "metadata": {},
   "outputs": [],
   "source": [
    "import pandas as pd\n",
    "import numpy as np\n",
    "import re\n",
    "from glob import glob\n",
    "import copy\n",
    "\n",
    "file_names = glob('/mnt/dataset/dataset-2090348533109489664/EMR/*/ADMISSIONS.csv')"
   ]
  },
  {
   "cell_type": "code",
   "execution_count": null,
   "id": "9e444da9",
   "metadata": {},
   "outputs": [],
   "source": [
    "from datetime import datetime, timedelta\n",
    "import pandas as pd\n",
    "import numpy as np\n",
    "\n",
    "icu_death = pd.DataFrame()\n",
    "\n",
    "for file_name in file_names:\n",
    "    _, _, _, _, _, hospital, DATE, _ = file_name.split('/')\n",
    "        \n",
    "    df = pd.read_csv(file_name).drop_duplicates(['SUBJECT_ID'], ignore_index=True).dropna(subset=['DEATHTIME'])\n",
    "    \n",
    "    for index, row in df.iterrows():\n",
    "        dischtime = row['DISCHTIME']\n",
    "        deathtime = row['DEATHTIME']\n",
    "        sid = row['SUBJECT_ID']\n",
    "        \n",
    "        if not dischtime or not deathtime:\n",
    "            continue\n",
    "        try:\n",
    "            dischtime = datetime.fromisoformat(dischtime)\n",
    "            deathtime = datetime.fromisoformat(deathtime)\n",
    "        except:\n",
    "            continue\n",
    "\n",
    "        new_row = {'hosp': hospital, 'sid': sid, 'death': False}\n",
    "            \n",
    "        if deathtime < dischtime:\n",
    "            if sid not in icu_death[hospital]:\n",
    "                new_row['death'] = True\n",
    "        icu_death = pd.concat([icu_death, pd.DataFrame(new_row)], ignore_index=True)\n"
   ]
  },
  {
   "cell_type": "code",
   "execution_count": null,
   "id": "275d3972",
   "metadata": {},
   "outputs": [],
   "source": [
    "hosps = icu_death['hosp'].unique()\n",
    "for hosp in hosps:\n",
    "    temp = icu_death[icu_death['hosp'] == hosp]\n",
    "    death_count = temp['death'].value_counts()[True]\n",
    "    patient_count = len(temp)\n",
    "    ratio = death_count / patient_count if patient_count > 0 else 0\n",
    "\n",
    "    print(f'{hosp}: n-{death_count}, ratio-{ratio}')\n",
    "\n",
    "\n",
    "ratio = icu_death['death'].value_counts()[True] / len(icu_death)\n",
    "print(f'total patients: {len(icu_death)}')\n",
    "print(f'\\ntotal: n-{icu_death[\"death\"].value_counts()[True]}, ratio-{ratio}')"
   ]
  },
  {
   "cell_type": "code",
   "execution_count": null,
   "id": "af0bd93d",
   "metadata": {},
   "outputs": [],
   "source": [
    "ratio = death_count / patients_rows if patients_rows > 0 else 0"
   ]
  },
  {
   "cell_type": "markdown",
   "id": "58e65b81",
   "metadata": {},
   "source": [
    "# Insurance"
   ]
  },
  {
   "cell_type": "code",
   "execution_count": null,
   "id": "05d0ab2f",
   "metadata": {},
   "outputs": [],
   "source": [
    "insurance_info = {}\n",
    "insurance_total = {}\n",
    "\n",
    "patients_dict = {}\n",
    "\n",
    "file_names = glob('/mnt/dataset/dataset-2090348533109489664/EMR/*/ADMISSIONS.csv')\n",
    "\n",
    "for file_name in file_names:\n",
    "    _, _, _, _, _, hospital, DATE, _ = file_name.split('/')\n",
    "        \n",
    "    if hospital not in insurance_info:\n",
    "        insurance_info[hospital] = {}\n",
    "        \n",
    "    df = pd.read_csv(file_name).drop_duplicates(['SUBJECT_ID'], ignore_index=True)\n",
    "    \n",
    "    for index, row in df.iterrows():\n",
    "        sid = row['SUBJECT_ID']\n",
    "        if sid in patients_dict:\n",
    "            continue\n",
    "        patients_dict[sid] = 0\n",
    "        \n",
    "        insurance = row['INSURANCE']\n",
    "        if insurance not in insurance_info[hospital]:\n",
    "            insurance_info[hospital][insurance] = 0\n",
    "        insurance_info[hospital][insurance] += 1\n",
    "        \n",
    "        if insurance not in insurance_total:\n",
    "            insurance_total[insurance] = 0\n",
    "        insurance_total[insurance] += 1"
   ]
  },
  {
   "cell_type": "code",
   "execution_count": null,
   "id": "75dcac69",
   "metadata": {},
   "outputs": [],
   "source": [
    "total_patients = sum(insurance_total.values())\n",
    "print('total patients:', total_patients)\n",
    "\n",
    "for key, count in insurance_total.items():\n",
    "    print(f'{key}: {count} ({count/total_patients})\\n')"
   ]
  }
 ],
 "metadata": {
  "language_info": {
   "name": "python"
  }
 },
 "nbformat": 4,
 "nbformat_minor": 5
}
