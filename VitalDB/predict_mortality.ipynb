{
  "cells": [
    {
      "cell_type": "markdown",
      "metadata": {
        "id": "view-in-github",
        "colab_type": "text"
      },
      "source": [
        "<a href=\"https://colab.research.google.com/github/vitaldb/examples/blob/master/predict_mortality.ipynb\" target=\"_parent\"><img src=\"https://colab.research.google.com/assets/colab-badge.svg\" alt=\"Open In Colab\"/></a>"
      ]
    },
    {
      "cell_type": "markdown",
      "metadata": {
        "id": "RkFymRLltmw4"
      },
      "source": [
        "# Machine learning model for predicting in-hospital mortality\n",
        "In this example, we will learn how to build a model for predicting in-hospital mortality with <code>VitalDB</code> dataset.<br>"
      ]
    },
    {
      "cell_type": "markdown",
      "metadata": {
        "id": "TWjTAJJrtmw9"
      },
      "source": [
        "## Preprocessing"
      ]
    },
    {
      "cell_type": "code",
      "execution_count": 6,
      "metadata": {
        "colab": {
          "base_uri": "https://localhost:8080/"
        },
        "id": "1tnmS-S_MrAM",
        "outputId": "4af3e2d3-2e85-4691-d3a6-3e7d75068bd0"
      },
      "outputs": [
        {
          "output_type": "stream",
          "name": "stdout",
          "text": [
            "37/4274 train, 18/1969 test\n"
          ]
        }
      ],
      "source": [
        "import pandas as pd\n",
        "\n",
        "# Set variables\n",
        "OUTCOME_VAR = 'death_inhosp'\n",
        "INPUT_VARS = ['age', 'preop_hb', 'preop_alb', 'preop_ast', 'preop_cr']\n",
        "\n",
        "# Load dataset\n",
        "df = pd.read_csv('https://api.vitaldb.net/cases')\n",
        "df = df[df['asa'] < 6]\n",
        "\n",
        "# Split a dataset into train and test sets\n",
        "ntrain = int(len(df) * 0.7)\n",
        "y_train = df.loc[:ntrain, OUTCOME_VAR]\n",
        "x_train = df.loc[:ntrain, INPUT_VARS]\n",
        "y_test = df.loc[ntrain:, OUTCOME_VAR]\n",
        "x_test = df.loc[ntrain:, INPUT_VARS]\n",
        "\n",
        "# Print the number of train and test sets\n",
        "print('{}/{} train, {}/{} test'.format(sum(y_train), len(y_train), sum(y_test), len(y_test)))"
      ]
    },
    {
      "cell_type": "markdown",
      "metadata": {
        "id": "BJJiXjFFtmxA"
      },
      "source": [
        "## Compute auroc and auprc scores using ASA class"
      ]
    },
    {
      "cell_type": "code",
      "execution_count": 7,
      "metadata": {
        "colab": {
          "base_uri": "https://localhost:8080/"
        },
        "id": "KQ_hJ1FvNIGl",
        "outputId": "1980c32c-ef14-40f0-de5d-9c752827e893"
      },
      "outputs": [
        {
          "output_type": "stream",
          "name": "stdout",
          "text": [
            "ASA auroc: 0.900, auprc: 0.335\n"
          ]
        }
      ],
      "source": [
        "# ASA class\n",
        "from sklearn.metrics import roc_auc_score, auc, precision_recall_curve, roc_curve\n",
        "y_pred_asa = df.loc[ntrain:, 'asa']\n",
        "\n",
        "# Compute area under the ROC AUC from prediction scores\n",
        "auroc_asa = roc_auc_score(y_test, y_pred_asa)\n",
        "\n",
        "# Compute the precision recall curve\n",
        "prc_asa, rec_asa, thresholds = precision_recall_curve(y_test, y_pred_asa)\n",
        "\n",
        "# Compute area under the precision-recall curve\n",
        "auprc_asa = auc(rec_asa, prc_asa)\n",
        "print('ASA auroc: {:.3f}, auprc: {:.3f}'.format(auroc_asa, auprc_asa))"
      ]
    },
    {
      "cell_type": "markdown",
      "metadata": {
        "id": "RrjQVRa-tmxB"
      },
      "source": [
        "## Modeling with Logistic Regression"
      ]
    },
    {
      "cell_type": "code",
      "execution_count": 8,
      "metadata": {
        "colab": {
          "base_uri": "https://localhost:8080/"
        },
        "id": "fJgNhKGhNJZw",
        "outputId": "d889a5d9-f0ca-4fc1-c2e4-47c385639a6b"
      },
      "outputs": [
        {
          "output_type": "stream",
          "name": "stdout",
          "text": [
            "LR auroc: 0.947, auprc: 0.236\n"
          ]
        }
      ],
      "source": [
        "# 1 - Logistic regression using SimpleImputer()\n",
        "from sklearn.impute import SimpleImputer\n",
        "imp = SimpleImputer().fit(x_train)\n",
        "x_train_imputed = imp.transform(x_train)\n",
        "x_test_imputed = imp.transform(x_test)\n",
        "\n",
        "# 2 - Logistic regression using LogisticRegression()\n",
        "from sklearn.linear_model import LogisticRegression\n",
        "model = LogisticRegression().fit(x_train_imputed, y_train)\n",
        "y_pred_lr = model.predict_proba(x_test_imputed)[:, 1]\n",
        "\n",
        "# Compute AUROC and AUPRC\n",
        "auroc_lr = roc_auc_score(y_test, y_pred_lr)\n",
        "prc_lr, rec_lr, thresholds = precision_recall_curve(y_test, y_pred_lr)\n",
        "auprc_lr = auc(rec_lr, prc_lr)\n",
        "print('LR auroc: {:.3f}, auprc: {:.3f}'.format(auroc_lr, auprc_lr))"
      ]
    },
    {
      "cell_type": "markdown",
      "metadata": {
        "id": "X51CPIDrtmxD"
      },
      "source": [
        "## Modeling with Gradient Boosting"
      ]
    },
    {
      "cell_type": "code",
      "execution_count": 9,
      "metadata": {
        "colab": {
          "base_uri": "https://localhost:8080/"
        },
        "id": "Oe9U_XvNNJiC",
        "outputId": "592e0edd-0fc1-45a1-bd57-894e88d1c5be"
      },
      "outputs": [
        {
          "output_type": "stream",
          "name": "stdout",
          "text": [
            "GBM auroc: 0.957, auprc: 0.623\n"
          ]
        }
      ],
      "source": [
        "# 3 - Gradient Boosting using XGBClassifier()\n",
        "from xgboost import XGBClassifier\n",
        "model = XGBClassifier(learning_rate=0.07, max_depth=4, n_estimators=50, subsample=0.8, colsample_bytree=0.8, use_label_encoder=False, eval_metric='logloss')\n",
        "model.fit(x_train, y_train)\n",
        "y_pred_gbm = model.predict_proba(x_test)[:, 1]\n",
        "\n",
        "# Compute AUROC and AUPRC\n",
        "auroc_gbm = roc_auc_score(y_test, y_pred_gbm)\n",
        "prc_gbm, rec_gbm, thresholds = precision_recall_curve(y_test, y_pred_gbm)\n",
        "auprc_gbm = auc(rec_gbm, prc_gbm)\n",
        "print('GBM auroc: {:.3f}, auprc: {:.3f}'.format(auroc_gbm, auprc_gbm))"
      ]
    },
    {
      "cell_type": "markdown",
      "source": [
        "##Plot results"
      ],
      "metadata": {
        "id": "6Wkp_xsNuMKD"
      }
    },
    {
      "cell_type": "code",
      "source": [
        "import matplotlib.pyplot as plt\n",
        "\n",
        "fpr_asa, tpr_asa, _ = roc_curve(y_test, y_pred_asa)\n",
        "fpr_lr, tpr_lr, _ = roc_curve(y_test, y_pred_lr)\n",
        "fpr_gbm, tpr_gbm, _ = roc_curve(y_test, y_pred_gbm)\n",
        "\n",
        "plt.figure(figsize=(5,5))\n",
        "plt.plot(fpr_asa, tpr_asa, label='ASA = {:0.3f}'.format(auroc_asa))\n",
        "plt.plot(fpr_lr, tpr_lr, label='LR = {:0.3f}'.format(auroc_lr))\n",
        "plt.plot(fpr_gbm, tpr_gbm, label='GBM = {:0.3f}'.format(auroc_gbm))\n",
        "plt.plot([0, 1], [0, 1], lw=1, linestyle='--')\n",
        "plt.xlim([0, 1])\n",
        "plt.ylim([0, 1])\n",
        "plt.legend()\n",
        "plt.xlabel('False Positive Rate')\n",
        "plt.ylabel('True Positive Rate')\n",
        "plt.show()"
      ],
      "metadata": {
        "colab": {
          "base_uri": "https://localhost:8080/",
          "height": 338
        },
        "id": "41jY7RAiuNx4",
        "outputId": "bb3f0e21-26d1-443f-fc70-930104e0f349"
      },
      "execution_count": 13,
      "outputs": [
        {
          "output_type": "display_data",
          "data": {
            "text/plain": [
              "<Figure size 360x360 with 1 Axes>"
            ],
            "image/png": "[encoded data removed]"
          },
          "metadata": {
            "needs_background": "light"
          }
        }
      ]
    }
  ],
  "metadata": {
    "colab": {
      "name": "predict_mortality.ipynb",
      "provenance": [],
      "include_colab_link": true
    },
    "kernelspec": {
      "display_name": "Python 3 (ipykernel)",
      "language": "python",
      "name": "python3"
    },
    "language_info": {
      "codemirror_mode": {
        "name": "ipython",
        "version": 3
      },
      "file_extension": ".py",
      "mimetype": "text/x-python",
      "name": "python",
      "nbconvert_exporter": "python",
      "pygments_lexer": "ipython3",
      "version": "3.9.12"
    }
  },
  "nbformat": 4,
  "nbformat_minor": 0
}