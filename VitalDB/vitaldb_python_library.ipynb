{
  "cells": [
    {
      "cell_type": "markdown",
      "metadata": {
        "id": "view-in-github",
        "colab_type": "text"
      },
      "source": [
        "<a href=\"https://colab.research.google.com/github/vitaldb/examples/blob/master/vitaldb_python_library.ipynb\" target=\"_parent\"><img src=\"https://colab.research.google.com/assets/colab-badge.svg\" alt=\"Open In Colab\"/></a>"
      ]
    },
    {
      "cell_type": "markdown",
      "metadata": {
        "id": "X2COxMJNUxIh"
      },
      "source": [
        "# VitalDB Python Library\n",
        "In this example, we will learn how to handle Vital files using `vitaldb` Python library."
      ]
    },
    {
      "cell_type": "markdown",
      "metadata": {
        "id": "0pAlf-93XLo9"
      },
      "source": [
        "## Preparation"
      ]
    },
    {
      "cell_type": "markdown",
      "metadata": {
        "id": "Yz6rZEtHVQwG"
      },
      "source": [
        "### Install 'vitaldb' library\n",
        "Intall `vitaldb` library in order to read Vital files."
      ]
    },
    {
      "cell_type": "code",
      "execution_count": 1,
      "metadata": {
        "colab": {
          "base_uri": "https://localhost:8080/"
        },
        "id": "t88MHi_hcHAT",
        "outputId": "436dbecc-a639-4ff3-a1ea-27608fa04ff9"
      },
      "outputs": [
        {
          "output_type": "stream",
          "name": "stdout",
          "text": [
            "Looking in indexes: https://pypi.org/simple, https://us-python.pkg.dev/colab-wheels/public/simple/\n",
            "Collecting vitaldb\n",
            "  Downloading vitaldb-1.3.3-py3-none-any.whl (54 kB)\n",
            "\u001b[2K     \u001b[90m━━━━━━━━━━━━━━━━━━━━━━━━━━━━━━━━━━━━━━━━\u001b[0m \u001b[32m54.6/54.6 kB\u001b[0m \u001b[31m1.4 MB/s\u001b[0m eta \u001b[36m0:00:00\u001b[0m\n",
            "\u001b[?25hRequirement already satisfied: numpy in /usr/local/lib/python3.10/dist-packages (from vitaldb) (1.22.4)\n",
            "Requirement already satisfied: pandas in /usr/local/lib/python3.10/dist-packages (from vitaldb) (1.5.3)\n",
            "Requirement already satisfied: requests in /usr/local/lib/python3.10/dist-packages (from vitaldb) (2.27.1)\n",
            "Collecting wfdb (from vitaldb)\n",
            "  Downloading wfdb-4.1.1-py3-none-any.whl (159 kB)\n",
            "\u001b[2K     \u001b[90m━━━━━━━━━━━━━━━━━━━━━━━━━━━━━━━━━━━━━━━\u001b[0m \u001b[32m159.9/159.9 kB\u001b[0m \u001b[31m4.2 MB/s\u001b[0m eta \u001b[36m0:00:00\u001b[0m\n",
            "\u001b[?25hRequirement already satisfied: python-dateutil>=2.8.1 in /usr/local/lib/python3.10/dist-packages (from pandas->vitaldb) (2.8.2)\n",
            "Requirement already satisfied: pytz>=2020.1 in /usr/local/lib/python3.10/dist-packages (from pandas->vitaldb) (2022.7.1)\n",
            "Requirement already satisfied: urllib3<1.27,>=1.21.1 in /usr/local/lib/python3.10/dist-packages (from requests->vitaldb) (1.26.15)\n",
            "Requirement already satisfied: certifi>=2017.4.17 in /usr/local/lib/python3.10/dist-packages (from requests->vitaldb) (2022.12.7)\n",
            "Requirement already satisfied: charset-normalizer~=2.0.0 in /usr/local/lib/python3.10/dist-packages (from requests->vitaldb) (2.0.12)\n",
            "Requirement already satisfied: idna<4,>=2.5 in /usr/local/lib/python3.10/dist-packages (from requests->vitaldb) (3.4)\n",
            "Requirement already satisfied: SoundFile>=0.10.0 in /usr/local/lib/python3.10/dist-packages (from wfdb->vitaldb) (0.12.1)\n",
            "Requirement already satisfied: matplotlib>=3.2.2 in /usr/local/lib/python3.10/dist-packages (from wfdb->vitaldb) (3.7.1)\n",
            "Requirement already satisfied: scipy>=1.0.0 in /usr/local/lib/python3.10/dist-packages (from wfdb->vitaldb) (1.10.1)\n",
            "Requirement already satisfied: contourpy>=1.0.1 in /usr/local/lib/python3.10/dist-packages (from matplotlib>=3.2.2->wfdb->vitaldb) (1.0.7)\n",
            "Requirement already satisfied: cycler>=0.10 in /usr/local/lib/python3.10/dist-packages (from matplotlib>=3.2.2->wfdb->vitaldb) (0.11.0)\n",
            "Requirement already satisfied: fonttools>=4.22.0 in /usr/local/lib/python3.10/dist-packages (from matplotlib>=3.2.2->wfdb->vitaldb) (4.39.3)\n",
            "Requirement already satisfied: kiwisolver>=1.0.1 in /usr/local/lib/python3.10/dist-packages (from matplotlib>=3.2.2->wfdb->vitaldb) (1.4.4)\n",
            "Requirement already satisfied: packaging>=20.0 in /usr/local/lib/python3.10/dist-packages (from matplotlib>=3.2.2->wfdb->vitaldb) (23.1)\n",
            "Requirement already satisfied: pillow>=6.2.0 in /usr/local/lib/python3.10/dist-packages (from matplotlib>=3.2.2->wfdb->vitaldb) (8.4.0)\n",
            "Requirement already satisfied: pyparsing>=2.3.1 in /usr/local/lib/python3.10/dist-packages (from matplotlib>=3.2.2->wfdb->vitaldb) (3.0.9)\n",
            "Requirement already satisfied: six>=1.5 in /usr/local/lib/python3.10/dist-packages (from python-dateutil>=2.8.1->pandas->vitaldb) (1.16.0)\n",
            "Requirement already satisfied: cffi>=1.0 in /usr/local/lib/python3.10/dist-packages (from SoundFile>=0.10.0->wfdb->vitaldb) (1.15.1)\n",
            "Requirement already satisfied: pycparser in /usr/local/lib/python3.10/dist-packages (from cffi>=1.0->SoundFile>=0.10.0->wfdb->vitaldb) (2.21)\n",
            "Installing collected packages: wfdb, vitaldb\n",
            "Successfully installed vitaldb-1.3.3 wfdb-4.1.1\n"
          ]
        }
      ],
      "source": [
        "!pip install vitaldb"
      ]
    },
    {
      "cell_type": "markdown",
      "metadata": {
        "id": "hI2a3YxAfzME"
      },
      "source": [
        "###Download sample vital files\n",
        "Download sample vital files from the VitalDB website using the command below."
      ]
    },
    {
      "cell_type": "code",
      "execution_count": 2,
      "metadata": {
        "colab": {
          "base_uri": "https://localhost:8080/"
        },
        "id": "jK_-H6WtUz_9",
        "outputId": "66d752cd-a5f7-43d0-f5af-a55994363eff"
      },
      "outputs": [
        {
          "output_type": "stream",
          "name": "stdout",
          "text": [
            "--2023-06-07 07:32:18--  https://vitaldb.net/samples.zip\n",
            "Resolving vitaldb.net (vitaldb.net)... 15.197.255.47\n",
            "Connecting to vitaldb.net (vitaldb.net)|15.197.255.47|:443... connected.\n",
            "HTTP request sent, awaiting response... 200 OK\n",
            "Length: 104335514 (100M) [application/zip]\n",
            "Saving to: ‘samples.zip’\n",
            "\n",
            "samples.zip         100%[===================>]  99.50M  29.8MB/s    in 4.2s    \n",
            "\n",
            "2023-06-07 07:32:23 (23.8 MB/s) - ‘samples.zip’ saved [104335514/104335514]\n",
            "\n",
            "Archive:  samples.zip\n",
            "  inflating: 1-1.vital               \n",
            "  inflating: 1-2.vital               \n",
            "  inflating: 1.vital                 \n",
            "  inflating: 2.vital                 \n",
            "  inflating: 3.vital                 \n",
            "  inflating: 4.vital                 \n"
          ]
        }
      ],
      "source": [
        "!wget https://vitaldb.net/samples.zip\n",
        "!unzip samples.zip"
      ]
    },
    {
      "cell_type": "markdown",
      "metadata": {
        "id": "EmgInduClfAR"
      },
      "source": [
        "## Vital File API\n",
        "The Vital File API provides easy functions (`vital_trks`, `vital_recs`) and class (`VitalFile`) for reading a track list and contents from a vital file."
      ]
    },
    {
      "cell_type": "markdown",
      "metadata": {
        "id": "IVniWCJAU7Wj"
      },
      "source": [
        "### Read the track list from a vital file\n",
        "You can read the track list from a vital file using `vital_trks` function."
      ]
    },
    {
      "cell_type": "code",
      "execution_count": 3,
      "metadata": {
        "colab": {
          "base_uri": "https://localhost:8080/"
        },
        "id": "oh_54t5FZkYM",
        "outputId": "2f270869-d780-446b-9a26-bddf722622c4"
      },
      "outputs": [
        {
          "output_type": "execute_result",
          "data": {
            "text/plain": [
              "['SNUADC/ART',\n",
              " 'SNUADC/ECG_II',\n",
              " 'SNUADC/ECG_V5',\n",
              " 'SNUADC/PLETH',\n",
              " 'Solar8000/HR',\n",
              " 'Solar8000/ST_I',\n",
              " 'Solar8000/ST_II',\n",
              " 'Solar8000/ST_III',\n",
              " 'Solar8000/ST_AVL',\n",
              " 'Solar8000/ST_AVR',\n",
              " 'Solar8000/ST_AVF',\n",
              " 'Solar8000/ART_MBP',\n",
              " 'Solar8000/ART_SBP',\n",
              " 'Solar8000/ART_DBP',\n",
              " 'Solar8000/PLETH_SPO2',\n",
              " 'Solar8000/PLETH_HR',\n",
              " 'Solar8000/BT',\n",
              " 'Solar8000/VENT_MAWP',\n",
              " 'Solar8000/ST_V5',\n",
              " 'Solar8000/NIBP_MBP',\n",
              " 'Solar8000/NIBP_SBP',\n",
              " 'Solar8000/NIBP_DBP',\n",
              " 'Solar8000/VENT_PIP',\n",
              " 'Solar8000/VENT_RR',\n",
              " 'Solar8000/VENT_MV',\n",
              " 'Solar8000/VENT_TV',\n",
              " 'Solar8000/VENT_PPLAT',\n",
              " 'Solar8000/GAS2_AGENT',\n",
              " 'Solar8000/GAS2_EXPIRED',\n",
              " 'Solar8000/GAS2_INSPIRED',\n",
              " 'Solar8000/ETCO2',\n",
              " 'Solar8000/INCO2',\n",
              " 'Solar8000/RR_CO2',\n",
              " 'Solar8000/FEO2',\n",
              " 'Solar8000/FIO2',\n",
              " 'Solar8000/VENT_INSP_TM',\n",
              " 'Solar8000/VENT_SET_TV',\n",
              " 'Solar8000/VENT_SET_PCP',\n",
              " 'Primus/CO2',\n",
              " 'Primus/AWP',\n",
              " 'Primus/INSP_SEVO',\n",
              " 'Primus/EXP_SEVO',\n",
              " 'Primus/PAMB_MBAR',\n",
              " 'Primus/MAWP_MBAR',\n",
              " 'Primus/MAC',\n",
              " 'Primus/VENT_LEAK',\n",
              " 'Primus/INCO2',\n",
              " 'Primus/ETCO2',\n",
              " 'Primus/FEO2',\n",
              " 'Primus/FIO2',\n",
              " 'Primus/FIN2O',\n",
              " 'Primus/FEN2O',\n",
              " 'Primus/SET_FIO2',\n",
              " 'Primus/SET_FRESH_FLOW',\n",
              " 'Primus/SET_AGE',\n",
              " 'Primus/PIP_MBAR',\n",
              " 'Primus/COMPLIANCE',\n",
              " 'Primus/PPLAT_MBAR',\n",
              " 'Primus/PEEP_MBAR',\n",
              " 'Primus/TV',\n",
              " 'Primus/MV',\n",
              " 'Primus/RR_CO2',\n",
              " 'Primus/SET_TV_L',\n",
              " 'Primus/SET_INSP_TM',\n",
              " 'Primus/SET_RR_IPPV',\n",
              " 'Primus/SET_INTER_PEEP',\n",
              " 'Primus/SET_PIP',\n",
              " 'Primus/SET_INSP_PAUSE',\n",
              " 'Primus/INSP_DES',\n",
              " 'Primus/EXP_DES',\n",
              " 'BIS/EEG1_WAV',\n",
              " 'BIS/EEG2_WAV',\n",
              " 'BIS/BIS',\n",
              " 'BIS/SQI',\n",
              " 'BIS/EMG',\n",
              " 'BIS/SR',\n",
              " 'BIS/SEF',\n",
              " 'BIS/TOTPOW']"
            ]
          },
          "metadata": {},
          "execution_count": 3
        }
      ],
      "source": [
        "import vitaldb\n",
        "trks = vitaldb.vital_trks('1.vital')\n",
        "trks"
      ]
    },
    {
      "cell_type": "markdown",
      "metadata": {
        "id": "XARQ3Zs1WVE7"
      },
      "source": [
        "### Read the samples in a vital file\n",
        "You can read the samples(values) in a vital file using `vital_recs` function. It returns the samples in a numpy array."
      ]
    },
    {
      "cell_type": "code",
      "execution_count": 4,
      "metadata": {
        "colab": {
          "base_uri": "https://localhost:8080/",
          "height": 955
        },
        "id": "qsQ-vSMpUjp5",
        "outputId": "3e4d5fce-34a1-4a69-ddea-b188cacb2449"
      },
      "outputs": [
        {
          "output_type": "stream",
          "name": "stdout",
          "text": [
            "[[  0.8993597   -7.822235  ]\n",
            " [  0.83023787  -8.809692  ]\n",
            " [  0.7808652   -7.822235  ]\n",
            " ...\n",
            " [ -0.09797144 -20.65918   ]\n",
            " [ -0.06834793  32.663483  ]\n",
            " [  0.45500422  -4.8598633 ]]\n"
          ]
        },
        {
          "output_type": "display_data",
          "data": {
            "text/plain": [
              "<Figure size 2000x1000 with 2 Axes>"
            ],
            "image/png": "[encoded data removed]"
          },
          "metadata": {}
        }
      ],
      "source": [
        "vals = vitaldb.vital_recs('1.vital', ['ECG_II','ART'], 1/100)\n",
        "print(vals)\n",
        "\n",
        "ecg = vals[:,0]\n",
        "art = vals[:,1]\n",
        "\n",
        "# plot\n",
        "import matplotlib.pyplot as plt\n",
        "plt.figure(figsize=(20,10))\n",
        "plt.subplot(211)\n",
        "plt.plot(ecg[110000:111000], color='g')\n",
        "plt.subplot(212)\n",
        "plt.plot(art[110000:111000], color='r')\n",
        "plt.show()"
      ]
    },
    {
      "cell_type": "markdown",
      "metadata": {
        "id": "UwgzMGYvXyIZ"
      },
      "source": [
        "### Create VitalFile object\n",
        "`VitalFile` class helps you read, write, and edit vital file easily and seamlessly. You can create `VitalFile` object by opening one or list of local or online vital file(s)."
      ]
    },
    {
      "cell_type": "code",
      "execution_count": 5,
      "metadata": {
        "colab": {
          "base_uri": "https://localhost:8080/"
        },
        "id": "9-769iObcIms",
        "outputId": "22c2a345-090d-4a78-e335-8cbb69cb4e99"
      },
      "outputs": [
        {
          "output_type": "stream",
          "name": "stdout",
          "text": [
            "duration 11541.150 seconds 78 tracks\n"
          ]
        }
      ],
      "source": [
        "vf = vitaldb.VitalFile('1.vital')\n",
        "print(f'duration {vf.dtend - vf.dtstart:.3f} seconds {len(vf.trks)} tracks')"
      ]
    },
    {
      "cell_type": "markdown",
      "metadata": {
        "id": "aq38cDeobuKO"
      },
      "source": [
        "You can even directly read the vital file online."
      ]
    },
    {
      "cell_type": "code",
      "execution_count": 7,
      "metadata": {
        "colab": {
          "base_uri": "https://localhost:8080/"
        },
        "id": "L5Fyv9l8biP6",
        "outputId": "7561e040-fc9c-4a0d-b406-ce5aafabad93"
      },
      "outputs": [
        {
          "output_type": "stream",
          "name": "stdout",
          "text": [
            "duration 11541.150 seconds 78 tracks\n"
          ]
        }
      ],
      "source": [
        "vf = vitaldb.VitalFile('https://api.vitaldb.net/0001.vital')\n",
        "print(f'duration {vf.dtend - vf.dtstart:.3f} seconds {len(vf.trks)} tracks')"
      ]
    },
    {
      "cell_type": "markdown",
      "metadata": {
        "id": "dBz7vEL2bNb7"
      },
      "source": [
        "The code below create `VitalFile` object by merging two vital files.\n",
        "\n",
        "> Note: Only vital files within 2 days can be merged into one file."
      ]
    },
    {
      "cell_type": "code",
      "execution_count": 9,
      "metadata": {
        "colab": {
          "base_uri": "https://localhost:8080/"
        },
        "id": "IZmvNSBXaJ_e",
        "outputId": "82d20e95-5da1-462f-9aeb-5492281a6ee3"
      },
      "outputs": [
        {
          "output_type": "stream",
          "name": "stdout",
          "text": [
            "1-1 duration 3908.135 seconds 79 tracks\n",
            "1-2 duration 6621.162 seconds 79 tracks\n",
            "merged duration 11542.097 seconds 79 tracks\n"
          ]
        }
      ],
      "source": [
        "vf1 = vitaldb.VitalFile('1-1.vital')\n",
        "print(f'1-1 duration {vf1.dtend - vf1.dtstart:.3f} seconds {len(vf1.trks)} tracks')\n",
        "\n",
        "vf2 = vitaldb.VitalFile('1-2.vital')\n",
        "print(f'1-2 duration {vf2.dtend - vf2.dtstart:.3f} seconds {len(vf2.trks)} tracks')\n",
        "\n",
        "vf = vitaldb.VitalFile(['1-1.vital', '1-2.vital'])  # merged\n",
        "print(f'merged duration {vf.dtend - vf.dtstart:.3f} seconds {len(vf.trks)} tracks')"
      ]
    },
    {
      "cell_type": "markdown",
      "metadata": {
        "id": "GjPFDoI9fM4D"
      },
      "source": [
        "### Read information from the VitalFile object"
      ]
    },
    {
      "cell_type": "markdown",
      "metadata": {
        "id": "3NH19cpsdB8w"
      },
      "source": [
        "All information such as track list and measured samples are in the `vf` object. For example, you can get a list of track names using the `vf.get_track_names()` method or `vf.trks.keys()`."
      ]
    },
    {
      "cell_type": "code",
      "execution_count": 10,
      "metadata": {
        "colab": {
          "base_uri": "https://localhost:8080/"
        },
        "id": "5EVoYx14dBCP",
        "outputId": "c6b27427-aae0-4a72-de84-af3b8312b295"
      },
      "outputs": [
        {
          "output_type": "stream",
          "name": "stdout",
          "text": [
            "['SNUADC/ART', 'SNUADC/ECG_II', 'SNUADC/ECG_V5', 'SNUADC/PLETH', 'Primus/CO2', 'Primus/AWP', 'Primus/INSP_SEVO', 'Primus/EXP_SEVO', 'Primus/PAMB_MBAR', 'Primus/MAWP_MBAR', 'Primus/MAC', 'Primus/VENT_LEAK', 'Primus/INCO2', 'Primus/ETCO2', 'Primus/FEO2', 'Primus/FIO2', 'Primus/FIN2O', 'Primus/FEN2O', 'Primus/SET_FIO2', 'Primus/SET_FRESH_FLOW', 'Primus/SET_AGE', 'Primus/PIP_MBAR', 'Primus/COMPLIANCE', 'Primus/PPLAT_MBAR', 'Primus/PEEP_MBAR', 'Primus/TV', 'Primus/MV', 'Primus/RR_CO2', 'Primus/SET_TV_L', 'Primus/SET_INSP_TM', 'Primus/SET_RR_IPPV', 'Primus/SET_INTER_PEEP', 'Primus/SET_PIP', 'Primus/SET_INSP_PAUSE', 'Primus/INSP_DES', 'Primus/EXP_DES', 'BIS/EEG1_WAV', 'BIS/EEG2_WAV', 'BIS/BIS', 'BIS/SQI', 'BIS/EMG', 'BIS/SR', 'BIS/SEF', 'BIS/TOTPOW', 'Solar8000/HR', 'Solar8000/ST_I', 'Solar8000/ST_II', 'Solar8000/ST_III', 'Solar8000/ST_AVL', 'Solar8000/ST_AVR', 'Solar8000/ST_AVF', 'Solar8000/ART_MBP', 'Solar8000/ART_SBP', 'Solar8000/ART_DBP', 'Solar8000/PLETH_SPO2', 'Solar8000/PLETH_HR', 'Solar8000/BT', 'Solar8000/VENT_MAWP', 'Solar8000/ST_V5', 'Solar8000/NIBP_MBP', 'Solar8000/NIBP_SBP', 'Solar8000/NIBP_DBP', 'Solar8000/VENT_PIP', 'Solar8000/VENT_RR', 'Solar8000/VENT_MV', 'Solar8000/VENT_TV', 'Solar8000/VENT_PPLAT', 'Solar8000/GAS2_AGENT', 'Solar8000/GAS2_EXPIRED', 'Solar8000/GAS2_INSPIRED', 'Solar8000/ETCO2', 'Solar8000/INCO2', 'Solar8000/RR_CO2', 'Solar8000/FEO2', 'Solar8000/FIO2', 'Solar8000/VENT_INSP_TM', 'Solar8000/VENT_SET_TV', 'Solar8000/VENT_SET_PCP', 'EVENT']\n",
            "dict_keys(['SNUADC/ART', 'SNUADC/ECG_II', 'SNUADC/ECG_V5', 'SNUADC/PLETH', 'Primus/CO2', 'Primus/AWP', 'Primus/INSP_SEVO', 'Primus/EXP_SEVO', 'Primus/PAMB_MBAR', 'Primus/MAWP_MBAR', 'Primus/MAC', 'Primus/VENT_LEAK', 'Primus/INCO2', 'Primus/ETCO2', 'Primus/FEO2', 'Primus/FIO2', 'Primus/FIN2O', 'Primus/FEN2O', 'Primus/SET_FIO2', 'Primus/SET_FRESH_FLOW', 'Primus/SET_AGE', 'Primus/PIP_MBAR', 'Primus/COMPLIANCE', 'Primus/PPLAT_MBAR', 'Primus/PEEP_MBAR', 'Primus/TV', 'Primus/MV', 'Primus/RR_CO2', 'Primus/SET_TV_L', 'Primus/SET_INSP_TM', 'Primus/SET_RR_IPPV', 'Primus/SET_INTER_PEEP', 'Primus/SET_PIP', 'Primus/SET_INSP_PAUSE', 'Primus/INSP_DES', 'Primus/EXP_DES', 'BIS/EEG1_WAV', 'BIS/EEG2_WAV', 'BIS/BIS', 'BIS/SQI', 'BIS/EMG', 'BIS/SR', 'BIS/SEF', 'BIS/TOTPOW', 'Solar8000/HR', 'Solar8000/ST_I', 'Solar8000/ST_II', 'Solar8000/ST_III', 'Solar8000/ST_AVL', 'Solar8000/ST_AVR', 'Solar8000/ST_AVF', 'Solar8000/ART_MBP', 'Solar8000/ART_SBP', 'Solar8000/ART_DBP', 'Solar8000/PLETH_SPO2', 'Solar8000/PLETH_HR', 'Solar8000/BT', 'Solar8000/VENT_MAWP', 'Solar8000/ST_V5', 'Solar8000/NIBP_MBP', 'Solar8000/NIBP_SBP', 'Solar8000/NIBP_DBP', 'Solar8000/VENT_PIP', 'Solar8000/VENT_RR', 'Solar8000/VENT_MV', 'Solar8000/VENT_TV', 'Solar8000/VENT_PPLAT', 'Solar8000/GAS2_AGENT', 'Solar8000/GAS2_EXPIRED', 'Solar8000/GAS2_INSPIRED', 'Solar8000/ETCO2', 'Solar8000/INCO2', 'Solar8000/RR_CO2', 'Solar8000/FEO2', 'Solar8000/FIO2', 'Solar8000/VENT_INSP_TM', 'Solar8000/VENT_SET_TV', 'Solar8000/VENT_SET_PCP', 'EVENT'])\n"
          ]
        }
      ],
      "source": [
        "print(vf.get_track_names())\n",
        "print(vf.trks.keys())"
      ]
    },
    {
      "cell_type": "markdown",
      "source": [
        "There are tracks in VitalFile which contains records."
      ],
      "metadata": {
        "id": "9Vj56HVTnagE"
      }
    },
    {
      "cell_type": "code",
      "source": [
        "print(vf.trks)\n",
        "trk = vf.trks['SNUADC/ART']\n",
        "print(f'type: {trk.type} (1:wav, 2:num, 5:str)')  # track type\n",
        "print(f'name: {trk.name}')  # name\n",
        "print(f'device name: {trk.dname}')  # device name\n",
        "print(f'sample rate: {trk.srate}')  # sample rate\n",
        "print(f'unit: {trk.unit}')  # physical unit\n",
        "print(f'mindisp: {trk.mindisp}')  # minimum value of display\n",
        "print(f'maxdisp: {trk.maxdisp}')  # minimum value of display\n",
        "print(f'color: {trk.col}')  # color (r*255*255 + g*255 + b)\n",
        "print(trk.recs[0])"
      ],
      "metadata": {
        "colab": {
          "base_uri": "https://localhost:8080/"
        },
        "id": "jartc7fTnoLX",
        "outputId": "7fcdf4a5-af1b-48ad-abe3-518fe7c148f2"
      },
      "execution_count": 11,
      "outputs": [
        {
          "output_type": "stream",
          "name": "stdout",
          "text": [
            "{'SNUADC/ART': <vitaldb.utils.Track object at 0x7f23c4e97580>, 'SNUADC/ECG_II': <vitaldb.utils.Track object at 0x7f23c4e97550>, 'SNUADC/ECG_V5': <vitaldb.utils.Track object at 0x7f23fe4bb070>, 'SNUADC/PLETH': <vitaldb.utils.Track object at 0x7f23c2a53ee0>, 'Primus/CO2': <vitaldb.utils.Track object at 0x7f23c4e955d0>, 'Primus/AWP': <vitaldb.utils.Track object at 0x7f23c4e95570>, 'Primus/INSP_SEVO': <vitaldb.utils.Track object at 0x7f23c4e97520>, 'Primus/EXP_SEVO': <vitaldb.utils.Track object at 0x7f23c4e95600>, 'Primus/PAMB_MBAR': <vitaldb.utils.Track object at 0x7f23c4e955a0>, 'Primus/MAWP_MBAR': <vitaldb.utils.Track object at 0x7f23c4e95540>, 'Primus/MAC': <vitaldb.utils.Track object at 0x7f23c4e95510>, 'Primus/VENT_LEAK': <vitaldb.utils.Track object at 0x7f23c4e954b0>, 'Primus/INCO2': <vitaldb.utils.Track object at 0x7f23c4e954e0>, 'Primus/ETCO2': <vitaldb.utils.Track object at 0x7f23c4e95480>, 'Primus/FEO2': <vitaldb.utils.Track object at 0x7f23c4e95450>, 'Primus/FIO2': <vitaldb.utils.Track object at 0x7f23c4e95420>, 'Primus/FIN2O': <vitaldb.utils.Track object at 0x7f23c4e953f0>, 'Primus/FEN2O': <vitaldb.utils.Track object at 0x7f23c4e953c0>, 'Primus/SET_FIO2': <vitaldb.utils.Track object at 0x7f23c4e95390>, 'Primus/SET_FRESH_FLOW': <vitaldb.utils.Track object at 0x7f23c4e95360>, 'Primus/SET_AGE': <vitaldb.utils.Track object at 0x7f23c4e95330>, 'Primus/PIP_MBAR': <vitaldb.utils.Track object at 0x7f23c4e95300>, 'Primus/COMPLIANCE': <vitaldb.utils.Track object at 0x7f23c4e952d0>, 'Primus/PPLAT_MBAR': <vitaldb.utils.Track object at 0x7f23c4e952a0>, 'Primus/PEEP_MBAR': <vitaldb.utils.Track object at 0x7f23c4e95270>, 'Primus/TV': <vitaldb.utils.Track object at 0x7f23c4e95240>, 'Primus/MV': <vitaldb.utils.Track object at 0x7f23c4e95210>, 'Primus/RR_CO2': <vitaldb.utils.Track object at 0x7f23c4e951e0>, 'Primus/SET_TV_L': <vitaldb.utils.Track object at 0x7f23c4e951b0>, 'Primus/SET_INSP_TM': <vitaldb.utils.Track object at 0x7f23c4e95180>, 'Primus/SET_RR_IPPV': <vitaldb.utils.Track object at 0x7f23c4e95150>, 'Primus/SET_INTER_PEEP': <vitaldb.utils.Track object at 0x7f23c4e95120>, 'Primus/SET_PIP': <vitaldb.utils.Track object at 0x7f23c4e950c0>, 'Primus/SET_INSP_PAUSE': <vitaldb.utils.Track object at 0x7f23c4e950f0>, 'Primus/INSP_DES': <vitaldb.utils.Track object at 0x7f23c4e95090>, 'Primus/EXP_DES': <vitaldb.utils.Track object at 0x7f23c4e95060>, 'BIS/EEG1_WAV': <vitaldb.utils.Track object at 0x7f23c4e94f10>, 'BIS/EEG2_WAV': <vitaldb.utils.Track object at 0x7f23c4e94eb0>, 'BIS/BIS': <vitaldb.utils.Track object at 0x7f23c4e94070>, 'BIS/SQI': <vitaldb.utils.Track object at 0x7f23c4e94ee0>, 'BIS/EMG': <vitaldb.utils.Track object at 0x7f23c4e94760>, 'BIS/SR': <vitaldb.utils.Track object at 0x7f23c4e94e80>, 'BIS/SEF': <vitaldb.utils.Track object at 0x7f23c4e94e50>, 'BIS/TOTPOW': <vitaldb.utils.Track object at 0x7f23c4e94e20>, 'Solar8000/HR': <vitaldb.utils.Track object at 0x7f23c4e94d30>, 'Solar8000/ST_I': <vitaldb.utils.Track object at 0x7f23c4e94d00>, 'Solar8000/ST_II': <vitaldb.utils.Track object at 0x7f23c4e94cd0>, 'Solar8000/ST_III': <vitaldb.utils.Track object at 0x7f23c4e94ca0>, 'Solar8000/ST_AVL': <vitaldb.utils.Track object at 0x7f23c4e94c70>, 'Solar8000/ST_AVR': <vitaldb.utils.Track object at 0x7f23c4e94c40>, 'Solar8000/ST_AVF': <vitaldb.utils.Track object at 0x7f23c4e94c10>, 'Solar8000/ART_MBP': <vitaldb.utils.Track object at 0x7f23c4e94be0>, 'Solar8000/ART_SBP': <vitaldb.utils.Track object at 0x7f23c4e94bb0>, 'Solar8000/ART_DBP': <vitaldb.utils.Track object at 0x7f23c4e94b80>, 'Solar8000/PLETH_SPO2': <vitaldb.utils.Track object at 0x7f23c4e94b50>, 'Solar8000/PLETH_HR': <vitaldb.utils.Track object at 0x7f23c4e94b20>, 'Solar8000/BT': <vitaldb.utils.Track object at 0x7f23c4e94af0>, 'Solar8000/VENT_MAWP': <vitaldb.utils.Track object at 0x7f23c4e94ac0>, 'Solar8000/ST_V5': <vitaldb.utils.Track object at 0x7f23c4e94a90>, 'Solar8000/NIBP_MBP': <vitaldb.utils.Track object at 0x7f23c4e94a60>, 'Solar8000/NIBP_SBP': <vitaldb.utils.Track object at 0x7f23c4e94a30>, 'Solar8000/NIBP_DBP': <vitaldb.utils.Track object at 0x7f23c4e94a00>, 'Solar8000/VENT_PIP': <vitaldb.utils.Track object at 0x7f23c4e949d0>, 'Solar8000/VENT_RR': <vitaldb.utils.Track object at 0x7f23c707d120>, 'Solar8000/VENT_MV': <vitaldb.utils.Track object at 0x7f23c4e949a0>, 'Solar8000/VENT_TV': <vitaldb.utils.Track object at 0x7f23c4e95630>, 'Solar8000/VENT_PPLAT': <vitaldb.utils.Track object at 0x7f23c4e95660>, 'Solar8000/GAS2_AGENT': <vitaldb.utils.Track object at 0x7f23c4e94940>, 'Solar8000/GAS2_EXPIRED': <vitaldb.utils.Track object at 0x7f23c4e94970>, 'Solar8000/GAS2_INSPIRED': <vitaldb.utils.Track object at 0x7f23c4e94910>, 'Solar8000/ETCO2': <vitaldb.utils.Track object at 0x7f23c4e946d0>, 'Solar8000/INCO2': <vitaldb.utils.Track object at 0x7f23c4e94850>, 'Solar8000/RR_CO2': <vitaldb.utils.Track object at 0x7f23c4e948b0>, 'Solar8000/FEO2': <vitaldb.utils.Track object at 0x7f23c4e94820>, 'Solar8000/FIO2': <vitaldb.utils.Track object at 0x7f23c4e947f0>, 'Solar8000/VENT_INSP_TM': <vitaldb.utils.Track object at 0x7f23c4e94700>, 'Solar8000/VENT_SET_TV': <vitaldb.utils.Track object at 0x7f23c4e946a0>, 'Solar8000/VENT_SET_PCP': <vitaldb.utils.Track object at 0x7f23c4e94670>, 'EVENT': <vitaldb.utils.Track object at 0x7f23c4e95000>}\n",
            "type: 1 (1:wav, 2:num, 5:str)\n",
            "name: ART\n",
            "device name: SNUADC\n",
            "sample rate: 500.0\n",
            "unit: mmHg\n",
            "mindisp: 0.0\n",
            "maxdisp: 200.0\n",
            "color: 4294901760\n",
            "{'dt': 4102444801.7878857, 'val': array([494, 494, 494, 492, 495, 493, 495, 495, 494, 495, 494, 494, 494,\n",
            "       494, 493, 494, 494, 495, 495, 493, 493, 494, 494, 494, 493, 495,\n",
            "       495, 494, 493, 494, 493, 493, 493, 495, 493, 493, 494, 493, 493,\n",
            "       494, 494, 494, 493, 494, 493, 495, 495, 493, 494, 494, 494, 493,\n",
            "       494, 495, 493, 493, 493, 493, 493, 494, 494, 493, 494, 494, 494,\n",
            "       494, 494, 494, 495, 494, 495, 494, 493, 494, 494, 494, 494, 494,\n",
            "       493, 494, 494, 494, 495, 492, 494, 493, 494, 494, 494, 494, 493,\n",
            "       494, 494, 494, 493, 494, 494, 493, 494, 495], dtype=uint16)}\n"
          ]
        }
      ]
    },
    {
      "cell_type": "markdown",
      "metadata": {
        "id": "PkGaO65Fdg9s"
      },
      "source": [
        "### Read samples from the VitalFile object\n",
        "You can read the samples using `to_numpy()` method which is equivalant to `vitaldb.vital_recs()`."
      ]
    },
    {
      "cell_type": "code",
      "source": [],
      "metadata": {
        "id": "Ensf9C8spPyp"
      },
      "execution_count": 11,
      "outputs": []
    },
    {
      "cell_type": "code",
      "execution_count": 12,
      "metadata": {
        "colab": {
          "base_uri": "https://localhost:8080/"
        },
        "id": "8uWxgPWudtFZ",
        "outputId": "d91da5e0-c3c0-417a-edd3-35d928ab8ca3"
      },
      "outputs": [
        {
          "output_type": "execute_result",
          "data": {
            "text/plain": [
              "array([[         nan,          nan],\n",
              "       [         nan,          nan],\n",
              "       [         nan,          nan],\n",
              "       ...,\n",
              "       [ -0.09797144, -20.65918   ],\n",
              "       [ -0.06834793,  32.663483  ],\n",
              "       [  0.45500422,  -4.8598633 ]], dtype=float32)"
            ]
          },
          "metadata": {},
          "execution_count": 12
        }
      ],
      "source": [
        "vf.to_numpy(['ECG_II','ART'], 1/100)"
      ]
    },
    {
      "cell_type": "markdown",
      "metadata": {
        "id": "4aw1kKSnj-m-"
      },
      "source": [
        "You can get the samples as a pandas DataFrame using `to_pandas()` method."
      ]
    },
    {
      "cell_type": "code",
      "execution_count": 13,
      "metadata": {
        "colab": {
          "base_uri": "https://localhost:8080/",
          "height": 424
        },
        "id": "vFRJZEhLkPb0",
        "outputId": "fa09a3cf-5c68-47f2-d276-0945822009bc"
      },
      "outputs": [
        {
          "output_type": "execute_result",
          "data": {
            "text/plain": [
              "                                    Time    ECG_II        ART\n",
              "0              2100-01-01 00:00:00+00:00       NaN        NaN\n",
              "1       2100-01-01 00:00:00.010000+00:00       NaN        NaN\n",
              "2       2100-01-01 00:00:00.020000+00:00       NaN        NaN\n",
              "3       2100-01-01 00:00:00.030000+00:00       NaN        NaN\n",
              "4       2100-01-01 00:00:00.040000+00:00       NaN        NaN\n",
              "...                                  ...       ...        ...\n",
              "1154205 2100-01-01 03:12:22.050000+00:00 -0.413958   5.014709\n",
              "1154206 2100-01-01 03:12:22.060000+00:00  0.366133   4.027252\n",
              "1154207 2100-01-01 03:12:22.070000+00:00 -0.097971  -20.65918\n",
              "1154208 2100-01-01 03:12:22.080000+00:00 -0.068348  32.663483\n",
              "1154209 2100-01-01 03:12:22.090000+00:00  0.455004  -4.859863\n",
              "\n",
              "[1154210 rows x 3 columns]"
            ],
            "text/html": [
              "\n",
              "  <div id=\"df-14efd9a7-abbf-475f-8c39-0a060a70bda3\">\n",
              "    <div class=\"colab-df-container\">\n",
              "      <div>\n",
              "<style scoped>\n",
              "    .dataframe tbody tr th:only-of-type {\n",
              "        vertical-align: middle;\n",
              "    }\n",
              "\n",
              "    .dataframe tbody tr th {\n",
              "        vertical-align: top;\n",
              "    }\n",
              "\n",
              "    .dataframe thead th {\n",
              "        text-align: right;\n",
              "    }\n",
              "</style>\n",
              "<table border=\"1\" class=\"dataframe\">\n",
              "  <thead>\n",
              "    <tr style=\"text-align: right;\">\n",
              "      <th></th>\n",
              "      <th>Time</th>\n",
              "      <th>ECG_II</th>\n",
              "      <th>ART</th>\n",
              "    </tr>\n",
              "  </thead>\n",
              "  <tbody>\n",
              "    <tr>\n",
              "      <th>0</th>\n",
              "      <td>2100-01-01 00:00:00+00:00</td>\n",
              "      <td>NaN</td>\n",
              "      <td>NaN</td>\n",
              "    </tr>\n",
              "    <tr>\n",
              "      <th>1</th>\n",
              "      <td>2100-01-01 00:00:00.010000+00:00</td>\n",
              "      <td>NaN</td>\n",
              "      <td>NaN</td>\n",
              "    </tr>\n",
              "    <tr>\n",
              "      <th>2</th>\n",
              "      <td>2100-01-01 00:00:00.020000+00:00</td>\n",
              "      <td>NaN</td>\n",
              "      <td>NaN</td>\n",
              "    </tr>\n",
              "    <tr>\n",
              "      <th>3</th>\n",
              "      <td>2100-01-01 00:00:00.030000+00:00</td>\n",
              "      <td>NaN</td>\n",
              "      <td>NaN</td>\n",
              "    </tr>\n",
              "    <tr>\n",
              "      <th>4</th>\n",
              "      <td>2100-01-01 00:00:00.040000+00:00</td>\n",
              "      <td>NaN</td>\n",
              "      <td>NaN</td>\n",
              "    </tr>\n",
              "    <tr>\n",
              "      <th>...</th>\n",
              "      <td>...</td>\n",
              "      <td>...</td>\n",
              "      <td>...</td>\n",
              "    </tr>\n",
              "    <tr>\n",
              "      <th>1154205</th>\n",
              "      <td>2100-01-01 03:12:22.050000+00:00</td>\n",
              "      <td>-0.413958</td>\n",
              "      <td>5.014709</td>\n",
              "    </tr>\n",
              "    <tr>\n",
              "      <th>1154206</th>\n",
              "      <td>2100-01-01 03:12:22.060000+00:00</td>\n",
              "      <td>0.366133</td>\n",
              "      <td>4.027252</td>\n",
              "    </tr>\n",
              "    <tr>\n",
              "      <th>1154207</th>\n",
              "      <td>2100-01-01 03:12:22.070000+00:00</td>\n",
              "      <td>-0.097971</td>\n",
              "      <td>-20.65918</td>\n",
              "    </tr>\n",
              "    <tr>\n",
              "      <th>1154208</th>\n",
              "      <td>2100-01-01 03:12:22.080000+00:00</td>\n",
              "      <td>-0.068348</td>\n",
              "      <td>32.663483</td>\n",
              "    </tr>\n",
              "    <tr>\n",
              "      <th>1154209</th>\n",
              "      <td>2100-01-01 03:12:22.090000+00:00</td>\n",
              "      <td>0.455004</td>\n",
              "      <td>-4.859863</td>\n",
              "    </tr>\n",
              "  </tbody>\n",
              "</table>\n",
              "<p>1154210 rows × 3 columns</p>\n",
              "</div>\n",
              "      <button class=\"colab-df-convert\" onclick=\"convertToInteractive('df-14efd9a7-abbf-475f-8c39-0a060a70bda3')\"\n",
              "              title=\"Convert this dataframe to an interactive table.\"\n",
              "              style=\"display:none;\">\n",
              "        \n",
              "  <svg xmlns=\"http://www.w3.org/2000/svg\" height=\"24px\"viewBox=\"0 0 24 24\"\n",
              "       width=\"24px\">\n",
              "    <path d=\"M0 0h24v24H0V0z\" fill=\"none\"/>\n",
              "    <path d=\"M18.56 5.44l.94 2.06.94-2.06 2.06-.94-2.06-.94-.94-2.06-.94 2.06-2.06.94zm-11 1L8.5 8.5l.94-2.06 2.06-.94-2.06-.94L8.5 2.5l-.94 2.06-2.06.94zm10 10l.94 2.06.94-2.06 2.06-.94-2.06-.94-.94-2.06-.94 2.06-2.06.94z\"/><path d=\"M17.41 7.96l-1.37-1.37c-.4-.4-.92-.59-1.43-.59-.52 0-1.04.2-1.43.59L10.3 9.45l-7.72 7.72c-.78.78-.78 2.05 0 2.83L4 21.41c.39.39.9.59 1.41.59.51 0 1.02-.2 1.41-.59l7.78-7.78 2.81-2.81c.8-.78.8-2.07 0-2.86zM5.41 20L4 18.59l7.72-7.72 1.47 1.35L5.41 20z\"/>\n",
              "  </svg>\n",
              "      </button>\n",
              "      \n",
              "  <style>\n",
              "    .colab-df-container {\n",
              "      display:flex;\n",
              "      flex-wrap:wrap;\n",
              "      gap: 12px;\n",
              "    }\n",
              "\n",
              "    .colab-df-convert {\n",
              "      background-color: #E8F0FE;\n",
              "      border: none;\n",
              "      border-radius: 50%;\n",
              "      cursor: pointer;\n",
              "      display: none;\n",
              "      fill: #1967D2;\n",
              "      height: 32px;\n",
              "      padding: 0 0 0 0;\n",
              "      width: 32px;\n",
              "    }\n",
              "\n",
              "    .colab-df-convert:hover {\n",
              "      background-color: #E2EBFA;\n",
              "      box-shadow: 0px 1px 2px rgba(60, 64, 67, 0.3), 0px 1px 3px 1px rgba(60, 64, 67, 0.15);\n",
              "      fill: #174EA6;\n",
              "    }\n",
              "\n",
              "    [theme=dark] .colab-df-convert {\n",
              "      background-color: #3B4455;\n",
              "      fill: #D2E3FC;\n",
              "    }\n",
              "\n",
              "    [theme=dark] .colab-df-convert:hover {\n",
              "      background-color: #434B5C;\n",
              "      box-shadow: 0px 1px 3px 1px rgba(0, 0, 0, 0.15);\n",
              "      filter: drop-shadow(0px 1px 2px rgba(0, 0, 0, 0.3));\n",
              "      fill: #FFFFFF;\n",
              "    }\n",
              "  </style>\n",
              "\n",
              "      <script>\n",
              "        const buttonEl =\n",
              "          document.querySelector('#df-14efd9a7-abbf-475f-8c39-0a060a70bda3 button.colab-df-convert');\n",
              "        buttonEl.style.display =\n",
              "          google.colab.kernel.accessAllowed ? 'block' : 'none';\n",
              "\n",
              "        async function convertToInteractive(key) {\n",
              "          const element = document.querySelector('#df-14efd9a7-abbf-475f-8c39-0a060a70bda3');\n",
              "          const dataTable =\n",
              "            await google.colab.kernel.invokeFunction('convertToInteractive',\n",
              "                                                     [key], {});\n",
              "          if (!dataTable) return;\n",
              "\n",
              "          const docLinkHtml = 'Like what you see? Visit the ' +\n",
              "            '<a target=\"_blank\" href=https://colab.research.google.com/notebooks/data_table.ipynb>data table notebook</a>'\n",
              "            + ' to learn more about interactive tables.';\n",
              "          element.innerHTML = '';\n",
              "          dataTable['output_type'] = 'display_data';\n",
              "          await google.colab.output.renderOutput(dataTable, element);\n",
              "          const docLink = document.createElement('div');\n",
              "          docLink.innerHTML = docLinkHtml;\n",
              "          element.appendChild(docLink);\n",
              "        }\n",
              "      </script>\n",
              "    </div>\n",
              "  </div>\n",
              "  "
            ]
          },
          "metadata": {},
          "execution_count": 13
        }
      ],
      "source": [
        "df = vf.to_pandas(['ECG_II', 'ART'], 1/100, return_datetime=True)\n",
        "df"
      ]
    },
    {
      "cell_type": "markdown",
      "metadata": {
        "id": "IqvPw8dQt-PW"
      },
      "source": [
        "### Edit VitalFile object\n",
        "You can edit VitalFile object. For example, you can crop it, remove or rename tracks and devices."
      ]
    },
    {
      "cell_type": "code",
      "execution_count": 14,
      "metadata": {
        "colab": {
          "base_uri": "https://localhost:8080/"
        },
        "id": "8uzf2y92uT2j",
        "outputId": "781d5470-27ef-419c-c263-453613e66ddb"
      },
      "outputs": [
        {
          "output_type": "stream",
          "name": "stdout",
          "text": [
            "original duration 11542.097 seconds 79 tracks\n",
            "cropped duration 7882.097 seconds 79 tracks\n",
            "track removed duration 7882.097 seconds 79 tracks\n"
          ]
        }
      ],
      "source": [
        "# cropping\n",
        "print(f'original duration {vf.dtend - vf.dtstart:.3f} seconds {len(vf.trks)} tracks')\n",
        "vf.crop(vf.get_dt(2100, 1, 1, 1))  # remove samples before 2100 Jan 1, 1AM\n",
        "vf.crop(60)  # remove samples within 60 sec from the beginning\n",
        "print(f'cropped duration {vf.dtend - vf.dtstart:.3f} seconds {len(vf.trks)} tracks')\n",
        "\n",
        "# removing tracks\n",
        "vf.remove_tracks(['ECG_FIVE'])\n",
        "print(f'track removed duration {vf.dtend - vf.dtstart:.3f} seconds {len(vf.trks)} tracks')\n",
        "\n",
        "# renaming tracks\n",
        "vf.rename_tracks({'ECG_II': 'ECG_TWO', 'ECG_V5': 'ECG_FIVE'})\n",
        "vf.rename_device('SNUADC', 'SUPER_NICE_ADC')"
      ]
    },
    {
      "cell_type": "markdown",
      "metadata": {
        "id": "ogWGHQ5lfZP2"
      },
      "source": [
        "### Save the VitalFile object to vital file\n",
        "To save `VitalFile` object to vital file, call `to_vital()` with the file path to save."
      ]
    },
    {
      "cell_type": "code",
      "execution_count": 15,
      "metadata": {
        "colab": {
          "base_uri": "https://localhost:8080/"
        },
        "id": "4tLbry76e3qr",
        "outputId": "1fa9b31e-9ae2-4eab-fd00-73b01a86ac82"
      },
      "outputs": [
        {
          "output_type": "execute_result",
          "data": {
            "text/plain": [
              "True"
            ]
          },
          "metadata": {},
          "execution_count": 15
        }
      ],
      "source": [
        "vf.to_vital('1_copyed.vital')"
      ]
    },
    {
      "cell_type": "markdown",
      "metadata": {
        "id": "wKlN4U3miUee"
      },
      "source": [
        "### Save the VitalFile object to csv file"
      ]
    },
    {
      "cell_type": "code",
      "execution_count": 16,
      "metadata": {
        "colab": {
          "base_uri": "https://localhost:8080/",
          "height": 424
        },
        "id": "r9ff2be7lmG1",
        "outputId": "a8dd6d7a-76c3-4a27-ef51-ebefbc129c1e"
      },
      "outputs": [
        {
          "output_type": "execute_result",
          "data": {
            "text/plain": [
              "                                    Time  ECG_II        ART\n",
              "0              2100-01-01 01:01:00+00:00     NaN        NaN\n",
              "1       2100-01-01 01:01:00.010000+00:00     NaN        NaN\n",
              "2       2100-01-01 01:01:00.020000+00:00     NaN        NaN\n",
              "3       2100-01-01 01:01:00.030000+00:00     NaN        NaN\n",
              "4       2100-01-01 01:01:00.040000+00:00     NaN        NaN\n",
              "...                                  ...     ...        ...\n",
              "788205  2100-01-01 03:12:22.050000+00:00     NaN   5.014709\n",
              "788206  2100-01-01 03:12:22.060000+00:00     NaN   4.027252\n",
              "788207  2100-01-01 03:12:22.070000+00:00     NaN -20.659180\n",
              "788208  2100-01-01 03:12:22.080000+00:00     NaN  32.663483\n",
              "788209  2100-01-01 03:12:22.090000+00:00     NaN  -4.859863\n",
              "\n",
              "[788210 rows x 3 columns]"
            ],
            "text/html": [
              "\n",
              "  <div id=\"df-656ab7d0-d902-4e5f-9bdd-11507f0be4eb\">\n",
              "    <div class=\"colab-df-container\">\n",
              "      <div>\n",
              "<style scoped>\n",
              "    .dataframe tbody tr th:only-of-type {\n",
              "        vertical-align: middle;\n",
              "    }\n",
              "\n",
              "    .dataframe tbody tr th {\n",
              "        vertical-align: top;\n",
              "    }\n",
              "\n",
              "    .dataframe thead th {\n",
              "        text-align: right;\n",
              "    }\n",
              "</style>\n",
              "<table border=\"1\" class=\"dataframe\">\n",
              "  <thead>\n",
              "    <tr style=\"text-align: right;\">\n",
              "      <th></th>\n",
              "      <th>Time</th>\n",
              "      <th>ECG_II</th>\n",
              "      <th>ART</th>\n",
              "    </tr>\n",
              "  </thead>\n",
              "  <tbody>\n",
              "    <tr>\n",
              "      <th>0</th>\n",
              "      <td>2100-01-01 01:01:00+00:00</td>\n",
              "      <td>NaN</td>\n",
              "      <td>NaN</td>\n",
              "    </tr>\n",
              "    <tr>\n",
              "      <th>1</th>\n",
              "      <td>2100-01-01 01:01:00.010000+00:00</td>\n",
              "      <td>NaN</td>\n",
              "      <td>NaN</td>\n",
              "    </tr>\n",
              "    <tr>\n",
              "      <th>2</th>\n",
              "      <td>2100-01-01 01:01:00.020000+00:00</td>\n",
              "      <td>NaN</td>\n",
              "      <td>NaN</td>\n",
              "    </tr>\n",
              "    <tr>\n",
              "      <th>3</th>\n",
              "      <td>2100-01-01 01:01:00.030000+00:00</td>\n",
              "      <td>NaN</td>\n",
              "      <td>NaN</td>\n",
              "    </tr>\n",
              "    <tr>\n",
              "      <th>4</th>\n",
              "      <td>2100-01-01 01:01:00.040000+00:00</td>\n",
              "      <td>NaN</td>\n",
              "      <td>NaN</td>\n",
              "    </tr>\n",
              "    <tr>\n",
              "      <th>...</th>\n",
              "      <td>...</td>\n",
              "      <td>...</td>\n",
              "      <td>...</td>\n",
              "    </tr>\n",
              "    <tr>\n",
              "      <th>788205</th>\n",
              "      <td>2100-01-01 03:12:22.050000+00:00</td>\n",
              "      <td>NaN</td>\n",
              "      <td>5.014709</td>\n",
              "    </tr>\n",
              "    <tr>\n",
              "      <th>788206</th>\n",
              "      <td>2100-01-01 03:12:22.060000+00:00</td>\n",
              "      <td>NaN</td>\n",
              "      <td>4.027252</td>\n",
              "    </tr>\n",
              "    <tr>\n",
              "      <th>788207</th>\n",
              "      <td>2100-01-01 03:12:22.070000+00:00</td>\n",
              "      <td>NaN</td>\n",
              "      <td>-20.659180</td>\n",
              "    </tr>\n",
              "    <tr>\n",
              "      <th>788208</th>\n",
              "      <td>2100-01-01 03:12:22.080000+00:00</td>\n",
              "      <td>NaN</td>\n",
              "      <td>32.663483</td>\n",
              "    </tr>\n",
              "    <tr>\n",
              "      <th>788209</th>\n",
              "      <td>2100-01-01 03:12:22.090000+00:00</td>\n",
              "      <td>NaN</td>\n",
              "      <td>-4.859863</td>\n",
              "    </tr>\n",
              "  </tbody>\n",
              "</table>\n",
              "<p>788210 rows × 3 columns</p>\n",
              "</div>\n",
              "      <button class=\"colab-df-convert\" onclick=\"convertToInteractive('df-656ab7d0-d902-4e5f-9bdd-11507f0be4eb')\"\n",
              "              title=\"Convert this dataframe to an interactive table.\"\n",
              "              style=\"display:none;\">\n",
              "        \n",
              "  <svg xmlns=\"http://www.w3.org/2000/svg\" height=\"24px\"viewBox=\"0 0 24 24\"\n",
              "       width=\"24px\">\n",
              "    <path d=\"M0 0h24v24H0V0z\" fill=\"none\"/>\n",
              "    <path d=\"M18.56 5.44l.94 2.06.94-2.06 2.06-.94-2.06-.94-.94-2.06-.94 2.06-2.06.94zm-11 1L8.5 8.5l.94-2.06 2.06-.94-2.06-.94L8.5 2.5l-.94 2.06-2.06.94zm10 10l.94 2.06.94-2.06 2.06-.94-2.06-.94-.94-2.06-.94 2.06-2.06.94z\"/><path d=\"M17.41 7.96l-1.37-1.37c-.4-.4-.92-.59-1.43-.59-.52 0-1.04.2-1.43.59L10.3 9.45l-7.72 7.72c-.78.78-.78 2.05 0 2.83L4 21.41c.39.39.9.59 1.41.59.51 0 1.02-.2 1.41-.59l7.78-7.78 2.81-2.81c.8-.78.8-2.07 0-2.86zM5.41 20L4 18.59l7.72-7.72 1.47 1.35L5.41 20z\"/>\n",
              "  </svg>\n",
              "      </button>\n",
              "      \n",
              "  <style>\n",
              "    .colab-df-container {\n",
              "      display:flex;\n",
              "      flex-wrap:wrap;\n",
              "      gap: 12px;\n",
              "    }\n",
              "\n",
              "    .colab-df-convert {\n",
              "      background-color: #E8F0FE;\n",
              "      border: none;\n",
              "      border-radius: 50%;\n",
              "      cursor: pointer;\n",
              "      display: none;\n",
              "      fill: #1967D2;\n",
              "      height: 32px;\n",
              "      padding: 0 0 0 0;\n",
              "      width: 32px;\n",
              "    }\n",
              "\n",
              "    .colab-df-convert:hover {\n",
              "      background-color: #E2EBFA;\n",
              "      box-shadow: 0px 1px 2px rgba(60, 64, 67, 0.3), 0px 1px 3px 1px rgba(60, 64, 67, 0.15);\n",
              "      fill: #174EA6;\n",
              "    }\n",
              "\n",
              "    [theme=dark] .colab-df-convert {\n",
              "      background-color: #3B4455;\n",
              "      fill: #D2E3FC;\n",
              "    }\n",
              "\n",
              "    [theme=dark] .colab-df-convert:hover {\n",
              "      background-color: #434B5C;\n",
              "      box-shadow: 0px 1px 3px 1px rgba(0, 0, 0, 0.15);\n",
              "      filter: drop-shadow(0px 1px 2px rgba(0, 0, 0, 0.3));\n",
              "      fill: #FFFFFF;\n",
              "    }\n",
              "  </style>\n",
              "\n",
              "      <script>\n",
              "        const buttonEl =\n",
              "          document.querySelector('#df-656ab7d0-d902-4e5f-9bdd-11507f0be4eb button.colab-df-convert');\n",
              "        buttonEl.style.display =\n",
              "          google.colab.kernel.accessAllowed ? 'block' : 'none';\n",
              "\n",
              "        async function convertToInteractive(key) {\n",
              "          const element = document.querySelector('#df-656ab7d0-d902-4e5f-9bdd-11507f0be4eb');\n",
              "          const dataTable =\n",
              "            await google.colab.kernel.invokeFunction('convertToInteractive',\n",
              "                                                     [key], {});\n",
              "          if (!dataTable) return;\n",
              "\n",
              "          const docLinkHtml = 'Like what you see? Visit the ' +\n",
              "            '<a target=\"_blank\" href=https://colab.research.google.com/notebooks/data_table.ipynb>data table notebook</a>'\n",
              "            + ' to learn more about interactive tables.';\n",
              "          element.innerHTML = '';\n",
              "          dataTable['output_type'] = 'display_data';\n",
              "          await google.colab.output.renderOutput(dataTable, element);\n",
              "          const docLink = document.createElement('div');\n",
              "          docLink.innerHTML = docLinkHtml;\n",
              "          element.appendChild(docLink);\n",
              "        }\n",
              "      </script>\n",
              "    </div>\n",
              "  </div>\n",
              "  "
            ]
          },
          "metadata": {},
          "execution_count": 16
        }
      ],
      "source": [
        "vf.to_csv('1.csv', ['ECG_II', 'ART'], 1/100, return_datetime=True)\n",
        "\n",
        "import pandas as pd\n",
        "pd.read_csv('1.csv')"
      ]
    },
    {
      "cell_type": "markdown",
      "metadata": {
        "id": "TA_SAsyTggDN"
      },
      "source": [
        "### Batch extraction of specific tracks from multiple vital files\n",
        "The code below explains how to extract tracks from several vital files in the specific folder and save them with csv file format."
      ]
    },
    {
      "cell_type": "code",
      "execution_count": 17,
      "metadata": {
        "colab": {
          "base_uri": "https://localhost:8080/",
          "height": 545
        },
        "id": "4SgDfHe1jphi",
        "outputId": "34ada376-9716-40ca-d6d7-ea71e50d7fbe"
      },
      "outputs": [
        {
          "output_type": "stream",
          "name": "stdout",
          "text": [
            "converting:3.vital...done\n",
            "converting:1-2.vital...done\n",
            "converting:1-1.vital...done\n",
            "converting:1.vital...done\n",
            "converting:2.vital...done\n",
            "converting:4.vital...done\n",
            "converting:1_copyed.vital...done\n"
          ]
        },
        {
          "output_type": "execute_result",
          "data": {
            "text/plain": [
              "           ECG_II        ART\n",
              "0        0.899360  -7.822235\n",
              "1        0.830238  -8.809692\n",
              "2        0.780865  -7.822235\n",
              "3        0.751241  -7.822235\n",
              "4        0.741367  -8.809692\n",
              "...           ...        ...\n",
              "1154026 -0.413958   5.014710\n",
              "1154027  0.366133   4.027252\n",
              "1154028 -0.097971 -20.659180\n",
              "1154029 -0.068348  32.663483\n",
              "1154030  0.455004  -4.859863\n",
              "\n",
              "[1154031 rows x 2 columns]"
            ],
            "text/html": [
              "\n",
              "  <div id=\"df-7ca4b4d4-64fa-4a6f-a22b-874d0033121e\">\n",
              "    <div class=\"colab-df-container\">\n",
              "      <div>\n",
              "<style scoped>\n",
              "    .dataframe tbody tr th:only-of-type {\n",
              "        vertical-align: middle;\n",
              "    }\n",
              "\n",
              "    .dataframe tbody tr th {\n",
              "        vertical-align: top;\n",
              "    }\n",
              "\n",
              "    .dataframe thead th {\n",
              "        text-align: right;\n",
              "    }\n",
              "</style>\n",
              "<table border=\"1\" class=\"dataframe\">\n",
              "  <thead>\n",
              "    <tr style=\"text-align: right;\">\n",
              "      <th></th>\n",
              "      <th>ECG_II</th>\n",
              "      <th>ART</th>\n",
              "    </tr>\n",
              "  </thead>\n",
              "  <tbody>\n",
              "    <tr>\n",
              "      <th>0</th>\n",
              "      <td>0.899360</td>\n",
              "      <td>-7.822235</td>\n",
              "    </tr>\n",
              "    <tr>\n",
              "      <th>1</th>\n",
              "      <td>0.830238</td>\n",
              "      <td>-8.809692</td>\n",
              "    </tr>\n",
              "    <tr>\n",
              "      <th>2</th>\n",
              "      <td>0.780865</td>\n",
              "      <td>-7.822235</td>\n",
              "    </tr>\n",
              "    <tr>\n",
              "      <th>3</th>\n",
              "      <td>0.751241</td>\n",
              "      <td>-7.822235</td>\n",
              "    </tr>\n",
              "    <tr>\n",
              "      <th>4</th>\n",
              "      <td>0.741367</td>\n",
              "      <td>-8.809692</td>\n",
              "    </tr>\n",
              "    <tr>\n",
              "      <th>...</th>\n",
              "      <td>...</td>\n",
              "      <td>...</td>\n",
              "    </tr>\n",
              "    <tr>\n",
              "      <th>1154026</th>\n",
              "      <td>-0.413958</td>\n",
              "      <td>5.014710</td>\n",
              "    </tr>\n",
              "    <tr>\n",
              "      <th>1154027</th>\n",
              "      <td>0.366133</td>\n",
              "      <td>4.027252</td>\n",
              "    </tr>\n",
              "    <tr>\n",
              "      <th>1154028</th>\n",
              "      <td>-0.097971</td>\n",
              "      <td>-20.659180</td>\n",
              "    </tr>\n",
              "    <tr>\n",
              "      <th>1154029</th>\n",
              "      <td>-0.068348</td>\n",
              "      <td>32.663483</td>\n",
              "    </tr>\n",
              "    <tr>\n",
              "      <th>1154030</th>\n",
              "      <td>0.455004</td>\n",
              "      <td>-4.859863</td>\n",
              "    </tr>\n",
              "  </tbody>\n",
              "</table>\n",
              "<p>1154031 rows × 2 columns</p>\n",
              "</div>\n",
              "      <button class=\"colab-df-convert\" onclick=\"convertToInteractive('df-7ca4b4d4-64fa-4a6f-a22b-874d0033121e')\"\n",
              "              title=\"Convert this dataframe to an interactive table.\"\n",
              "              style=\"display:none;\">\n",
              "        \n",
              "  <svg xmlns=\"http://www.w3.org/2000/svg\" height=\"24px\"viewBox=\"0 0 24 24\"\n",
              "       width=\"24px\">\n",
              "    <path d=\"M0 0h24v24H0V0z\" fill=\"none\"/>\n",
              "    <path d=\"M18.56 5.44l.94 2.06.94-2.06 2.06-.94-2.06-.94-.94-2.06-.94 2.06-2.06.94zm-11 1L8.5 8.5l.94-2.06 2.06-.94-2.06-.94L8.5 2.5l-.94 2.06-2.06.94zm10 10l.94 2.06.94-2.06 2.06-.94-2.06-.94-.94-2.06-.94 2.06-2.06.94z\"/><path d=\"M17.41 7.96l-1.37-1.37c-.4-.4-.92-.59-1.43-.59-.52 0-1.04.2-1.43.59L10.3 9.45l-7.72 7.72c-.78.78-.78 2.05 0 2.83L4 21.41c.39.39.9.59 1.41.59.51 0 1.02-.2 1.41-.59l7.78-7.78 2.81-2.81c.8-.78.8-2.07 0-2.86zM5.41 20L4 18.59l7.72-7.72 1.47 1.35L5.41 20z\"/>\n",
              "  </svg>\n",
              "      </button>\n",
              "      \n",
              "  <style>\n",
              "    .colab-df-container {\n",
              "      display:flex;\n",
              "      flex-wrap:wrap;\n",
              "      gap: 12px;\n",
              "    }\n",
              "\n",
              "    .colab-df-convert {\n",
              "      background-color: #E8F0FE;\n",
              "      border: none;\n",
              "      border-radius: 50%;\n",
              "      cursor: pointer;\n",
              "      display: none;\n",
              "      fill: #1967D2;\n",
              "      height: 32px;\n",
              "      padding: 0 0 0 0;\n",
              "      width: 32px;\n",
              "    }\n",
              "\n",
              "    .colab-df-convert:hover {\n",
              "      background-color: #E2EBFA;\n",
              "      box-shadow: 0px 1px 2px rgba(60, 64, 67, 0.3), 0px 1px 3px 1px rgba(60, 64, 67, 0.15);\n",
              "      fill: #174EA6;\n",
              "    }\n",
              "\n",
              "    [theme=dark] .colab-df-convert {\n",
              "      background-color: #3B4455;\n",
              "      fill: #D2E3FC;\n",
              "    }\n",
              "\n",
              "    [theme=dark] .colab-df-convert:hover {\n",
              "      background-color: #434B5C;\n",
              "      box-shadow: 0px 1px 3px 1px rgba(0, 0, 0, 0.15);\n",
              "      filter: drop-shadow(0px 1px 2px rgba(0, 0, 0, 0.3));\n",
              "      fill: #FFFFFF;\n",
              "    }\n",
              "  </style>\n",
              "\n",
              "      <script>\n",
              "        const buttonEl =\n",
              "          document.querySelector('#df-7ca4b4d4-64fa-4a6f-a22b-874d0033121e button.colab-df-convert');\n",
              "        buttonEl.style.display =\n",
              "          google.colab.kernel.accessAllowed ? 'block' : 'none';\n",
              "\n",
              "        async function convertToInteractive(key) {\n",
              "          const element = document.querySelector('#df-7ca4b4d4-64fa-4a6f-a22b-874d0033121e');\n",
              "          const dataTable =\n",
              "            await google.colab.kernel.invokeFunction('convertToInteractive',\n",
              "                                                     [key], {});\n",
              "          if (!dataTable) return;\n",
              "\n",
              "          const docLinkHtml = 'Like what you see? Visit the ' +\n",
              "            '<a target=\"_blank\" href=https://colab.research.google.com/notebooks/data_table.ipynb>data table notebook</a>'\n",
              "            + ' to learn more about interactive tables.';\n",
              "          element.innerHTML = '';\n",
              "          dataTable['output_type'] = 'display_data';\n",
              "          await google.colab.output.renderOutput(dataTable, element);\n",
              "          const docLink = document.createElement('div');\n",
              "          docLink.innerHTML = docLinkHtml;\n",
              "          element.appendChild(docLink);\n",
              "        }\n",
              "      </script>\n",
              "    </div>\n",
              "  </div>\n",
              "  "
            ]
          },
          "metadata": {},
          "execution_count": 17
        }
      ],
      "source": [
        "import os\n",
        "\n",
        "TRACK_NAMES = ['ECG_II', 'ART']\n",
        "for filename in os.listdir('.'):  # iterate files\n",
        "    if filename.endswith('.vital'):\n",
        "        print('converting:' + filename, end='...', flush=True)\n",
        "        vf = vitaldb.VitalFile(filename, TRACK_NAMES)  # read vital file\n",
        "        vf.to_csv(filename + '.csv.gz', TRACK_NAMES, 1/100)  # save as compressed csv\n",
        "        print('done')\n",
        "\n",
        "import pandas as pd\n",
        "pd.read_csv('1.vital.csv.gz')"
      ]
    },
    {
      "cell_type": "markdown",
      "metadata": {
        "id": "wxPqUQdyoLIQ"
      },
      "source": [
        "### Add event track to VitalFile\n",
        "The code below explains how to add an event track to a specific vital file. It is useful when you need to perform automatic labelling for developing machine learning models."
      ]
    },
    {
      "cell_type": "code",
      "source": [
        "vf = vitaldb.VitalFile('1.vital')\n",
        "\n",
        "# delete the first half\n",
        "vf.crop((vf.dtstart + vf.dtend) // 2, None)\n",
        "\n",
        "# find the last SET_TV_L records\n",
        "event_recs = []\n",
        "recs = vf.find_track('Primus/SET_TV_L').recs\n",
        "if len(recs):\n",
        "    event_recs.append({'dt': recs[-1]['dt'], 'val': 'Vent Off'})\n",
        "\n",
        "# add event track\n",
        "vf.add_track('EVENT', event_recs, mindisp=0, maxdisp=10)\n",
        "vf.to_vital('1-labelled.vital')"
      ],
      "metadata": {
        "colab": {
          "base_uri": "https://localhost:8080/"
        },
        "id": "y7whrirYoKzG",
        "outputId": "936bfa15-7302-41bc-ca34-6cfd3ddf89e6"
      },
      "execution_count": 18,
      "outputs": [
        {
          "output_type": "execute_result",
          "data": {
            "text/plain": [
              "True"
            ]
          },
          "metadata": {},
          "execution_count": 18
        }
      ]
    },
    {
      "cell_type": "markdown",
      "metadata": {
        "id": "kjTvUx8BhH0r"
      },
      "source": [
        "## Platform API\n",
        "You can login, list, and download vital files from the VitalDB platform using the `vitaldb` Platform API."
      ]
    },
    {
      "cell_type": "code",
      "execution_count": 19,
      "metadata": {
        "id": "wD7i3z3LhsVn"
      },
      "outputs": [],
      "source": [
        "# path to save downloaded files\n",
        "import os\n",
        "DOWNLOAD_DIR = \"download\"\n",
        "if not os.path.exists(DOWNLOAD_DIR):\n",
        "    os.mkdir(DOWNLOAD_DIR)\n",
        "\n",
        "if vitaldb.login(id=\"vitaldb_test\", pw=\"vitaldb_test\"):\n",
        "    for file in vitaldb.filelist(None, '2021-10-01'):\n",
        "        print(\"Downloading: \" + file['filename'], end='...', flush=True)\n",
        "        vitaldb.download(file['filename'], DOWNLOAD_DIR + '/' + file['filename'])\n",
        "        print('done')\n",
        "else:\n",
        "    print('login error')"
      ]
    },
    {
      "cell_type": "markdown",
      "metadata": {
        "id": "JG9qJHAdlQws"
      },
      "source": [
        "You can read the vital file directly from the server by not specifing the file path to the `vitaldb.download` method."
      ]
    },
    {
      "cell_type": "code",
      "execution_count": 20,
      "metadata": {
        "colab": {
          "base_uri": "https://localhost:8080/"
        },
        "id": "iPgRJnp8leVo",
        "outputId": "608310e8-cb03-4adf-9e31-491fda69286a"
      },
      "outputs": [
        {
          "output_type": "stream",
          "name": "stdout",
          "text": [
            "TEST1_211020_142621.vital...78 tracks\n"
          ]
        }
      ],
      "source": [
        "vitaldb.login(id=\"vitaldb_test\", pw=\"vitaldb_test\")\n",
        "filename = vitaldb.filelist()[0]['filename']\n",
        "print(filename, end='...', flush=True)\n",
        "\n",
        "# read the vital file directly from the server (no local file will be created)\n",
        "vf = vitaldb.VitalFile(vitaldb.download(filename))\n",
        "print(f'{len(vf.get_track_names())} tracks')"
      ]
    },
    {
      "cell_type": "markdown",
      "metadata": {
        "id": "PSrSBxyTpY7_"
      },
      "source": [
        "### For intranet server\n",
        "For intranet server, you can pass the host name and port number to the `vitaldb.login` function."
      ]
    },
    {
      "cell_type": "code",
      "execution_count": null,
      "metadata": {
        "id": "zHur5QU9jDXV"
      },
      "outputs": [],
      "source": [
        "# the code below will be executed only at SNUH\n",
        "vitaldb.login(id='admin', pw='pass', host='snuh.vitaldb.net', port=80)"
      ]
    },
    {
      "cell_type": "markdown",
      "metadata": {
        "id": "Oe3WAu3oem38"
      },
      "source": [
        "## Open Dataset API\n",
        "VitalDB python library also include the functions that support read VitalDB open dataset."
      ]
    },
    {
      "cell_type": "markdown",
      "metadata": {
        "id": "36dVA4UMYhOe"
      },
      "source": [
        "### Find cases in the VitalDB open dataset"
      ]
    },
    {
      "cell_type": "code",
      "execution_count": null,
      "metadata": {
        "id": "5g-6tMedY14-"
      },
      "outputs": [],
      "source": [
        "caseids = vitaldb.find_cases(['ECG_II', 'ART'])\n",
        "len(caseids)"
      ]
    },
    {
      "cell_type": "markdown",
      "metadata": {
        "id": "bxrktnXaXPQ7"
      },
      "source": [
        "### Read an open dataset case\n"
      ]
    },
    {
      "cell_type": "code",
      "execution_count": null,
      "metadata": {
        "id": "zSv9M0h7ZZuE"
      },
      "outputs": [],
      "source": [
        "vals = vitaldb.load_case(caseids[0], ['ECG_II','ART'], 1/100)\n",
        "print(vals)\n",
        "\n",
        "ecg = vals[:,0]\n",
        "art = vals[:,1]\n",
        "\n",
        "# plot\n",
        "import matplotlib.pyplot as plt\n",
        "plt.figure(figsize=(20,10))\n",
        "plt.subplot(211)\n",
        "plt.plot(ecg[110000:111000], color='g')\n",
        "plt.subplot(212)\n",
        "plt.plot(art[110000:111000], color='r')\n",
        "plt.show()"
      ]
    },
    {
      "cell_type": "markdown",
      "metadata": {
        "id": "2ETIrPMJb4DQ"
      },
      "source": [
        "Same as `load_case` in the functional API, you can download the tracks from the VitalDB open dataset."
      ]
    },
    {
      "cell_type": "code",
      "execution_count": null,
      "metadata": {
        "id": "czvq-HfaaXRa"
      },
      "outputs": [],
      "source": [
        "vf = vitaldb.VitalFile(1, ['ECG_II', 'ART'])  # load the first case from open dataset\n",
        "print(f'{len(vf.get_track_names())} tracks')"
      ]
    },
    {
      "cell_type": "markdown",
      "metadata": {
        "id": "FvWQq9yAc7QN"
      },
      "source": [
        "With the code below, you can download the first 5 cases that have 'Primus/AWP' track in the open dataset."
      ]
    },
    {
      "cell_type": "code",
      "execution_count": null,
      "metadata": {
        "id": "aOACz9m-caOL"
      },
      "outputs": [],
      "source": [
        "track_names = ['AWP']\n",
        "for caseid in vitaldb.find_cases(track_names)[:5]:\n",
        "    vf = vitaldb.VitalFile(caseid, track_names)\n",
        "    vf.to_vital(f'awp{caseid}.vital')"
      ]
    }
  ],
  "metadata": {
    "colab": {
      "name": "vitaldb_python_library.ipynb",
      "provenance": [],
      "include_colab_link": true
    },
    "kernelspec": {
      "display_name": "Python 3 (ipykernel)",
      "language": "python",
      "name": "python3"
    },
    "language_info": {
      "codemirror_mode": {
        "name": "ipython",
        "version": 3
      },
      "file_extension": ".py",
      "mimetype": "text/x-python",
      "name": "python",
      "nbconvert_exporter": "python",
      "pygments_lexer": "ipython3",
      "version": "3.9.12"
    }
  },
  "nbformat": 4,
  "nbformat_minor": 0
}