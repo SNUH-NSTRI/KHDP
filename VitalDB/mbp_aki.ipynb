{
  "cells": [
    {
      "cell_type": "markdown",
      "metadata": {
        "id": "view-in-github",
        "colab_type": "text"
      },
      "source": [
        "<a href=\"https://colab.research.google.com/github/vitaldb/examples/blob/master/mbp_aki.ipynb\" target=\"_parent\"><img src=\"https://colab.research.google.com/assets/colab-badge.svg\" alt=\"Open In Colab\"/></a>"
      ]
    },
    {
      "cell_type": "markdown",
      "metadata": {
        "id": "bpQy0pzwVUBL"
      },
      "source": [
        "# Calculation of AKI risk depending on BP during surgery\n",
        "In this example, we will calculate the risk of acute kidney injury (AKI) depending on blood pressure during surgery, using the VitalDB open dataset."
      ]
    },
    {
      "cell_type": "markdown",
      "metadata": {
        "id": "SqQZp4YdV2tg"
      },
      "source": [
        "## Required libraries and datasets"
      ]
    },
    {
      "cell_type": "code",
      "execution_count": 1,
      "metadata": {
        "colab": {
          "base_uri": "https://localhost:8080/"
        },
        "id": "9wmjfMpGN6_z",
        "outputId": "1064290f-6cf3-49fb-aeda-8b23b888be92"
      },
      "outputs": [
        {
          "output_type": "stream",
          "name": "stdout",
          "text": [
            "Collecting vitaldb\n",
            "  Downloading vitaldb-1.4.5-py3-none-any.whl (56 kB)\n",
            "\u001b[?25l     \u001b[90m━━━━━━━━━━━━━━━━━━━━━━━━━━━━━━━━━━━━━━━━\u001b[0m \u001b[32m0.0/56.7 kB\u001b[0m \u001b[31m?\u001b[0m eta \u001b[36m-:--:--\u001b[0m\r\u001b[2K     \u001b[90m━━━━━━━━━━━━━━━━━━━━━━━━━━━━━━━━━━━━━━━━\u001b[0m \u001b[32m56.7/56.7 kB\u001b[0m \u001b[31m1.6 MB/s\u001b[0m eta \u001b[36m0:00:00\u001b[0m\n",
            "\u001b[?25hRequirement already satisfied: numpy in /usr/local/lib/python3.10/dist-packages (from vitaldb) (1.23.5)\n",
            "Requirement already satisfied: pandas in /usr/local/lib/python3.10/dist-packages (from vitaldb) (1.5.3)\n",
            "Requirement already satisfied: requests in /usr/local/lib/python3.10/dist-packages (from vitaldb) (2.31.0)\n",
            "Collecting wfdb (from vitaldb)\n",
            "  Downloading wfdb-4.1.2-py3-none-any.whl (159 kB)\n",
            "\u001b[2K     \u001b[90m━━━━━━━━━━━━━━━━━━━━━━━━━━━━━━━━━━━━━━━━\u001b[0m \u001b[32m160.0/160.0 kB\u001b[0m \u001b[31m10.5 MB/s\u001b[0m eta \u001b[36m0:00:00\u001b[0m\n",
            "\u001b[?25hRequirement already satisfied: python-dateutil>=2.8.1 in /usr/local/lib/python3.10/dist-packages (from pandas->vitaldb) (2.8.2)\n",
            "Requirement already satisfied: pytz>=2020.1 in /usr/local/lib/python3.10/dist-packages (from pandas->vitaldb) (2023.3.post1)\n",
            "Requirement already satisfied: charset-normalizer<4,>=2 in /usr/local/lib/python3.10/dist-packages (from requests->vitaldb) (3.3.2)\n",
            "Requirement already satisfied: idna<4,>=2.5 in /usr/local/lib/python3.10/dist-packages (from requests->vitaldb) (3.6)\n",
            "Requirement already satisfied: urllib3<3,>=1.21.1 in /usr/local/lib/python3.10/dist-packages (from requests->vitaldb) (2.0.7)\n",
            "Requirement already satisfied: certifi>=2017.4.17 in /usr/local/lib/python3.10/dist-packages (from requests->vitaldb) (2023.11.17)\n",
            "Requirement already satisfied: SoundFile>=0.10.0 in /usr/local/lib/python3.10/dist-packages (from wfdb->vitaldb) (0.12.1)\n",
            "Requirement already satisfied: matplotlib>=3.2.2 in /usr/local/lib/python3.10/dist-packages (from wfdb->vitaldb) (3.7.1)\n",
            "Requirement already satisfied: scipy>=1.0.0 in /usr/local/lib/python3.10/dist-packages (from wfdb->vitaldb) (1.11.4)\n",
            "Requirement already satisfied: contourpy>=1.0.1 in /usr/local/lib/python3.10/dist-packages (from matplotlib>=3.2.2->wfdb->vitaldb) (1.2.0)\n",
            "Requirement already satisfied: cycler>=0.10 in /usr/local/lib/python3.10/dist-packages (from matplotlib>=3.2.2->wfdb->vitaldb) (0.12.1)\n",
            "Requirement already satisfied: fonttools>=4.22.0 in /usr/local/lib/python3.10/dist-packages (from matplotlib>=3.2.2->wfdb->vitaldb) (4.47.0)\n",
            "Requirement already satisfied: kiwisolver>=1.0.1 in /usr/local/lib/python3.10/dist-packages (from matplotlib>=3.2.2->wfdb->vitaldb) (1.4.5)\n",
            "Requirement already satisfied: packaging>=20.0 in /usr/local/lib/python3.10/dist-packages (from matplotlib>=3.2.2->wfdb->vitaldb) (23.2)\n",
            "Requirement already satisfied: pillow>=6.2.0 in /usr/local/lib/python3.10/dist-packages (from matplotlib>=3.2.2->wfdb->vitaldb) (9.4.0)\n",
            "Requirement already satisfied: pyparsing>=2.3.1 in /usr/local/lib/python3.10/dist-packages (from matplotlib>=3.2.2->wfdb->vitaldb) (3.1.1)\n",
            "Requirement already satisfied: six>=1.5 in /usr/local/lib/python3.10/dist-packages (from python-dateutil>=2.8.1->pandas->vitaldb) (1.16.0)\n",
            "Requirement already satisfied: cffi>=1.0 in /usr/local/lib/python3.10/dist-packages (from SoundFile>=0.10.0->wfdb->vitaldb) (1.16.0)\n",
            "Requirement already satisfied: pycparser in /usr/local/lib/python3.10/dist-packages (from cffi>=1.0->SoundFile>=0.10.0->wfdb->vitaldb) (2.21)\n",
            "Installing collected packages: wfdb, vitaldb\n",
            "Successfully installed vitaldb-1.4.5 wfdb-4.1.2\n"
          ]
        }
      ],
      "source": [
        "!pip install vitaldb\n",
        "import vitaldb\n",
        "import pandas as pd\n",
        "import numpy as np\n",
        "\n",
        "df_cases = pd.read_csv(\"https://api.vitaldb.net/cases\")  # Load clinical data\n",
        "df_trks = pd.read_csv('https://api.vitaldb.net/trks')  # Load track list\n",
        "df_labs = pd.read_csv('https://api.vitaldb.net/labs')  # Load lab result"
      ]
    },
    {
      "cell_type": "markdown",
      "metadata": {
        "id": "lbUrsNBzV8ok"
      },
      "source": [
        "## Case Selection\n",
        "- Let's use only 100 emergency surgical patients."
      ]
    },
    {
      "cell_type": "code",
      "execution_count": 2,
      "metadata": {
        "colab": {
          "base_uri": "https://localhost:8080/"
        },
        "id": "WXeQT1UPWER5",
        "outputId": "22e238bb-80bf-4c82-97f0-f1f87c134192"
      },
      "outputs": [
        {
          "output_type": "stream",
          "name": "stdout",
          "text": [
            "Total 100 cases found\n"
          ]
        }
      ],
      "source": [
        "# inclusion / exclusion criteria\n",
        "caseids = list(\n",
        "    set(df_trks.loc[df_trks['tname'] == 'Solar8000/ART_MBP', 'caseid']) &\n",
        "    set(df_cases.loc[df_cases['department'] == 'General surgery', 'caseid']) &\n",
        "    set(df_cases.loc[df_cases['emop'] == 1, 'caseid'])\n",
        ")\n",
        "caseids = caseids[:100]\n",
        "print('Total {} cases found'.format(len(caseids)))"
      ]
    },
    {
      "cell_type": "markdown",
      "metadata": {
        "id": "OkpKkCKbWL9B"
      },
      "source": [
        "## Load and calculate data for each case\n",
        "- First of all, calculate the preoperative and postoperative creatinine concentration for each case, and then calculate the possibility that AKI occurs.\n",
        "\n",
        "- Secondly, obtain the ART_MBP data from vitaldb datasets. Then, calculate the proportion of surgeries that have a measured value lower than the threshold between 40-80 mmHg in all surgeries."
      ]
    },
    {
      "cell_type": "code",
      "execution_count": 3,
      "metadata": {
        "colab": {
          "base_uri": "https://localhost:8080/"
        },
        "id": "yckBVdfxWQEz",
        "outputId": "8ce9059c-f530-4cdd-eefd-078e3bb6625a",
        "scrolled": true
      },
      "outputs": [
        {
          "output_type": "stream",
          "name": "stdout",
          "text": [
            "loading 6144...0.5 -> 0.57, no AKI\n",
            "loading 2063..."
          ]
        },
        {
          "output_type": "stream",
          "name": "stderr",
          "text": [
            "<ipython-input-3-4ec4a0651c2d>:43: FutureWarning: The frame.append method is deprecated and will be removed from pandas in a future version. Use pandas.concat instead.\n",
            "  df = df.append(row, ignore_index=True)\n"
          ]
        },
        {
          "output_type": "stream",
          "name": "stdout",
          "text": [
            "0.71 -> 1.26, AKI\n",
            "loading 4112...no postop cr\n",
            "loading 4115..."
          ]
        },
        {
          "output_type": "stream",
          "name": "stderr",
          "text": [
            "<ipython-input-3-4ec4a0651c2d>:43: FutureWarning: The frame.append method is deprecated and will be removed from pandas in a future version. Use pandas.concat instead.\n",
            "  df = df.append(row, ignore_index=True)\n"
          ]
        },
        {
          "output_type": "stream",
          "name": "stdout",
          "text": [
            "1.07 -> 0.9, no AKI\n",
            "loading 4116..."
          ]
        },
        {
          "output_type": "stream",
          "name": "stderr",
          "text": [
            "<ipython-input-3-4ec4a0651c2d>:43: FutureWarning: The frame.append method is deprecated and will be removed from pandas in a future version. Use pandas.concat instead.\n",
            "  df = df.append(row, ignore_index=True)\n"
          ]
        },
        {
          "output_type": "stream",
          "name": "stdout",
          "text": [
            "0.63 -> 0.72, no AKI\n",
            "loading 24...no preop cr\n",
            "loading 29..."
          ]
        },
        {
          "output_type": "stream",
          "name": "stderr",
          "text": [
            "<ipython-input-3-4ec4a0651c2d>:43: FutureWarning: The frame.append method is deprecated and will be removed from pandas in a future version. Use pandas.concat instead.\n",
            "  df = df.append(row, ignore_index=True)\n"
          ]
        },
        {
          "output_type": "stream",
          "name": "stdout",
          "text": [
            "0.78 -> 0.74, no AKI\n",
            "loading 32...no postop cr\n",
            "loading 4135..."
          ]
        },
        {
          "output_type": "stream",
          "name": "stderr",
          "text": [
            "<ipython-input-3-4ec4a0651c2d>:43: FutureWarning: The frame.append method is deprecated and will be removed from pandas in a future version. Use pandas.concat instead.\n",
            "  df = df.append(row, ignore_index=True)\n"
          ]
        },
        {
          "output_type": "stream",
          "name": "stdout",
          "text": [
            "2.65 -> 2.3, no AKI\n",
            "loading 4144..."
          ]
        },
        {
          "output_type": "stream",
          "name": "stderr",
          "text": [
            "<ipython-input-3-4ec4a0651c2d>:43: FutureWarning: The frame.append method is deprecated and will be removed from pandas in a future version. Use pandas.concat instead.\n",
            "  df = df.append(row, ignore_index=True)\n"
          ]
        },
        {
          "output_type": "stream",
          "name": "stdout",
          "text": [
            "17.74 -> 15.82, no AKI\n",
            "loading 6196..."
          ]
        },
        {
          "output_type": "stream",
          "name": "stderr",
          "text": [
            "<ipython-input-3-4ec4a0651c2d>:43: FutureWarning: The frame.append method is deprecated and will be removed from pandas in a future version. Use pandas.concat instead.\n",
            "  df = df.append(row, ignore_index=True)\n"
          ]
        },
        {
          "output_type": "stream",
          "name": "stdout",
          "text": [
            "0.82 -> 1.0, no AKI\n",
            "loading 4150...no postop cr\n",
            "loading 4155..."
          ]
        },
        {
          "output_type": "stream",
          "name": "stderr",
          "text": [
            "<ipython-input-3-4ec4a0651c2d>:43: FutureWarning: The frame.append method is deprecated and will be removed from pandas in a future version. Use pandas.concat instead.\n",
            "  df = df.append(row, ignore_index=True)\n"
          ]
        },
        {
          "output_type": "stream",
          "name": "stdout",
          "text": [
            "1.15 -> 2.19, AKI\n",
            "loading 60..."
          ]
        },
        {
          "output_type": "stream",
          "name": "stderr",
          "text": [
            "<ipython-input-3-4ec4a0651c2d>:43: FutureWarning: The frame.append method is deprecated and will be removed from pandas in a future version. Use pandas.concat instead.\n",
            "  df = df.append(row, ignore_index=True)\n"
          ]
        },
        {
          "output_type": "stream",
          "name": "stdout",
          "text": [
            "9.36 -> 7.95, no AKI\n",
            "loading 2117..."
          ]
        },
        {
          "output_type": "stream",
          "name": "stderr",
          "text": [
            "<ipython-input-3-4ec4a0651c2d>:43: FutureWarning: The frame.append method is deprecated and will be removed from pandas in a future version. Use pandas.concat instead.\n",
            "  df = df.append(row, ignore_index=True)\n"
          ]
        },
        {
          "output_type": "stream",
          "name": "stdout",
          "text": [
            "0.84 -> 0.89, no AKI\n",
            "loading 4168..."
          ]
        },
        {
          "output_type": "stream",
          "name": "stderr",
          "text": [
            "<ipython-input-3-4ec4a0651c2d>:43: FutureWarning: The frame.append method is deprecated and will be removed from pandas in a future version. Use pandas.concat instead.\n",
            "  df = df.append(row, ignore_index=True)\n"
          ]
        },
        {
          "output_type": "stream",
          "name": "stdout",
          "text": [
            "0.73 -> 0.62, no AKI\n",
            "loading 2130..."
          ]
        },
        {
          "output_type": "stream",
          "name": "stderr",
          "text": [
            "<ipython-input-3-4ec4a0651c2d>:43: FutureWarning: The frame.append method is deprecated and will be removed from pandas in a future version. Use pandas.concat instead.\n",
            "  df = df.append(row, ignore_index=True)\n"
          ]
        },
        {
          "output_type": "stream",
          "name": "stdout",
          "text": [
            "14.8 -> 9.02, no AKI\n",
            "loading 83..."
          ]
        },
        {
          "output_type": "stream",
          "name": "stderr",
          "text": [
            "<ipython-input-3-4ec4a0651c2d>:43: FutureWarning: The frame.append method is deprecated and will be removed from pandas in a future version. Use pandas.concat instead.\n",
            "  df = df.append(row, ignore_index=True)\n"
          ]
        },
        {
          "output_type": "stream",
          "name": "stdout",
          "text": [
            "8.13 -> 7.36, no AKI\n",
            "loading 87..."
          ]
        },
        {
          "output_type": "stream",
          "name": "stderr",
          "text": [
            "<ipython-input-3-4ec4a0651c2d>:43: FutureWarning: The frame.append method is deprecated and will be removed from pandas in a future version. Use pandas.concat instead.\n",
            "  df = df.append(row, ignore_index=True)\n"
          ]
        },
        {
          "output_type": "stream",
          "name": "stdout",
          "text": [
            "2.72 -> 2.35, no AKI\n",
            "loading 2138...no postop cr\n",
            "loading 2147..."
          ]
        },
        {
          "output_type": "stream",
          "name": "stderr",
          "text": [
            "<ipython-input-3-4ec4a0651c2d>:43: FutureWarning: The frame.append method is deprecated and will be removed from pandas in a future version. Use pandas.concat instead.\n",
            "  df = df.append(row, ignore_index=True)\n"
          ]
        },
        {
          "output_type": "stream",
          "name": "stdout",
          "text": [
            "0.44 -> 0.52, no AKI\n",
            "loading 4195..."
          ]
        },
        {
          "output_type": "stream",
          "name": "stderr",
          "text": [
            "<ipython-input-3-4ec4a0651c2d>:43: FutureWarning: The frame.append method is deprecated and will be removed from pandas in a future version. Use pandas.concat instead.\n",
            "  df = df.append(row, ignore_index=True)\n"
          ]
        },
        {
          "output_type": "stream",
          "name": "stdout",
          "text": [
            "0.89 -> 0.96, no AKI\n",
            "loading 2157..."
          ]
        },
        {
          "output_type": "stream",
          "name": "stderr",
          "text": [
            "<ipython-input-3-4ec4a0651c2d>:43: FutureWarning: The frame.append method is deprecated and will be removed from pandas in a future version. Use pandas.concat instead.\n",
            "  df = df.append(row, ignore_index=True)\n"
          ]
        },
        {
          "output_type": "stream",
          "name": "stdout",
          "text": [
            "0.78 -> 0.74, no AKI\n",
            "loading 4213..."
          ]
        },
        {
          "output_type": "stream",
          "name": "stderr",
          "text": [
            "<ipython-input-3-4ec4a0651c2d>:43: FutureWarning: The frame.append method is deprecated and will be removed from pandas in a future version. Use pandas.concat instead.\n",
            "  df = df.append(row, ignore_index=True)\n"
          ]
        },
        {
          "output_type": "stream",
          "name": "stdout",
          "text": [
            "0.88 -> 0.66, no AKI\n",
            "loading 6262...no preop cr\n",
            "loading 124..."
          ]
        },
        {
          "output_type": "stream",
          "name": "stderr",
          "text": [
            "<ipython-input-3-4ec4a0651c2d>:43: FutureWarning: The frame.append method is deprecated and will be removed from pandas in a future version. Use pandas.concat instead.\n",
            "  df = df.append(row, ignore_index=True)\n"
          ]
        },
        {
          "output_type": "stream",
          "name": "stdout",
          "text": [
            "0.63 -> 0.63, no AKI\n",
            "loading 2174..."
          ]
        },
        {
          "output_type": "stream",
          "name": "stderr",
          "text": [
            "<ipython-input-3-4ec4a0651c2d>:43: FutureWarning: The frame.append method is deprecated and will be removed from pandas in a future version. Use pandas.concat instead.\n",
            "  df = df.append(row, ignore_index=True)\n"
          ]
        },
        {
          "output_type": "stream",
          "name": "stdout",
          "text": [
            "5.42 -> 4.63, no AKI\n",
            "loading 4225...no postop cr\n",
            "loading 6273...no preop cr\n",
            "loading 138..."
          ]
        },
        {
          "output_type": "stream",
          "name": "stderr",
          "text": [
            "<ipython-input-3-4ec4a0651c2d>:43: FutureWarning: The frame.append method is deprecated and will be removed from pandas in a future version. Use pandas.concat instead.\n",
            "  df = df.append(row, ignore_index=True)\n"
          ]
        },
        {
          "output_type": "stream",
          "name": "stdout",
          "text": [
            "0.72 -> 0.65, no AKI\n",
            "loading 6283..."
          ]
        },
        {
          "output_type": "stream",
          "name": "stderr",
          "text": [
            "<ipython-input-3-4ec4a0651c2d>:43: FutureWarning: The frame.append method is deprecated and will be removed from pandas in a future version. Use pandas.concat instead.\n",
            "  df = df.append(row, ignore_index=True)\n"
          ]
        },
        {
          "output_type": "stream",
          "name": "stdout",
          "text": [
            "0.86 -> 0.77, no AKI\n",
            "loading 143...no preop cr\n",
            "loading 146..."
          ]
        },
        {
          "output_type": "stream",
          "name": "stderr",
          "text": [
            "<ipython-input-3-4ec4a0651c2d>:43: FutureWarning: The frame.append method is deprecated and will be removed from pandas in a future version. Use pandas.concat instead.\n",
            "  df = df.append(row, ignore_index=True)\n"
          ]
        },
        {
          "output_type": "stream",
          "name": "stdout",
          "text": [
            "0.62 -> 1.8, AKI\n",
            "loading 6290..."
          ]
        },
        {
          "output_type": "stream",
          "name": "stderr",
          "text": [
            "<ipython-input-3-4ec4a0651c2d>:43: FutureWarning: The frame.append method is deprecated and will be removed from pandas in a future version. Use pandas.concat instead.\n",
            "  df = df.append(row, ignore_index=True)\n"
          ]
        },
        {
          "output_type": "stream",
          "name": "stdout",
          "text": [
            "1.54 -> 1.79, no AKI\n",
            "loading 6292..."
          ]
        },
        {
          "output_type": "stream",
          "name": "stderr",
          "text": [
            "<ipython-input-3-4ec4a0651c2d>:43: FutureWarning: The frame.append method is deprecated and will be removed from pandas in a future version. Use pandas.concat instead.\n",
            "  df = df.append(row, ignore_index=True)\n"
          ]
        },
        {
          "output_type": "stream",
          "name": "stdout",
          "text": [
            "9.47 -> 7.41, no AKI\n",
            "loading 6293..."
          ]
        },
        {
          "output_type": "stream",
          "name": "stderr",
          "text": [
            "<ipython-input-3-4ec4a0651c2d>:43: FutureWarning: The frame.append method is deprecated and will be removed from pandas in a future version. Use pandas.concat instead.\n",
            "  df = df.append(row, ignore_index=True)\n"
          ]
        },
        {
          "output_type": "stream",
          "name": "stdout",
          "text": [
            "0.94 -> 1.09, no AKI\n",
            "loading 4247..."
          ]
        },
        {
          "output_type": "stream",
          "name": "stderr",
          "text": [
            "<ipython-input-3-4ec4a0651c2d>:43: FutureWarning: The frame.append method is deprecated and will be removed from pandas in a future version. Use pandas.concat instead.\n",
            "  df = df.append(row, ignore_index=True)\n"
          ]
        },
        {
          "output_type": "stream",
          "name": "stdout",
          "text": [
            "0.95 -> 1.05, no AKI\n",
            "loading 6297..."
          ]
        },
        {
          "output_type": "stream",
          "name": "stderr",
          "text": [
            "<ipython-input-3-4ec4a0651c2d>:43: FutureWarning: The frame.append method is deprecated and will be removed from pandas in a future version. Use pandas.concat instead.\n",
            "  df = df.append(row, ignore_index=True)\n"
          ]
        },
        {
          "output_type": "stream",
          "name": "stdout",
          "text": [
            "0.79 -> 0.63, no AKI\n",
            "loading 4251..."
          ]
        },
        {
          "output_type": "stream",
          "name": "stderr",
          "text": [
            "<ipython-input-3-4ec4a0651c2d>:43: FutureWarning: The frame.append method is deprecated and will be removed from pandas in a future version. Use pandas.concat instead.\n",
            "  df = df.append(row, ignore_index=True)\n"
          ]
        },
        {
          "output_type": "stream",
          "name": "stdout",
          "text": [
            "0.98 -> 0.82, no AKI\n",
            "loading 4254..."
          ]
        },
        {
          "output_type": "stream",
          "name": "stderr",
          "text": [
            "<ipython-input-3-4ec4a0651c2d>:43: FutureWarning: The frame.append method is deprecated and will be removed from pandas in a future version. Use pandas.concat instead.\n",
            "  df = df.append(row, ignore_index=True)\n"
          ]
        },
        {
          "output_type": "stream",
          "name": "stdout",
          "text": [
            "0.83 -> 1.22, no AKI\n",
            "loading 2214...no preop cr\n",
            "loading 6315..."
          ]
        },
        {
          "output_type": "stream",
          "name": "stderr",
          "text": [
            "<ipython-input-3-4ec4a0651c2d>:43: FutureWarning: The frame.append method is deprecated and will be removed from pandas in a future version. Use pandas.concat instead.\n",
            "  df = df.append(row, ignore_index=True)\n"
          ]
        },
        {
          "output_type": "stream",
          "name": "stdout",
          "text": [
            "no postop cr\n",
            "loading 2223...1.52 -> 1.15, no AKI\n",
            "loading 177..."
          ]
        },
        {
          "output_type": "stream",
          "name": "stderr",
          "text": [
            "<ipython-input-3-4ec4a0651c2d>:43: FutureWarning: The frame.append method is deprecated and will be removed from pandas in a future version. Use pandas.concat instead.\n",
            "  df = df.append(row, ignore_index=True)\n"
          ]
        },
        {
          "output_type": "stream",
          "name": "stdout",
          "text": [
            "15.94 -> 14.2, no AKI\n",
            "loading 185..."
          ]
        },
        {
          "output_type": "stream",
          "name": "stderr",
          "text": [
            "<ipython-input-3-4ec4a0651c2d>:43: FutureWarning: The frame.append method is deprecated and will be removed from pandas in a future version. Use pandas.concat instead.\n",
            "  df = df.append(row, ignore_index=True)\n"
          ]
        },
        {
          "output_type": "stream",
          "name": "stdout",
          "text": [
            "0.45 -> 0.4, no AKI\n",
            "loading 2239...no preop cr\n",
            "loading 6335..."
          ]
        },
        {
          "output_type": "stream",
          "name": "stderr",
          "text": [
            "<ipython-input-3-4ec4a0651c2d>:43: FutureWarning: The frame.append method is deprecated and will be removed from pandas in a future version. Use pandas.concat instead.\n",
            "  df = df.append(row, ignore_index=True)\n"
          ]
        },
        {
          "output_type": "stream",
          "name": "stdout",
          "text": [
            "0.95 -> 0.98, no AKI\n",
            "loading 2241..."
          ]
        },
        {
          "output_type": "stream",
          "name": "stderr",
          "text": [
            "<ipython-input-3-4ec4a0651c2d>:43: FutureWarning: The frame.append method is deprecated and will be removed from pandas in a future version. Use pandas.concat instead.\n",
            "  df = df.append(row, ignore_index=True)\n"
          ]
        },
        {
          "output_type": "stream",
          "name": "stdout",
          "text": [
            "0.57 -> 0.54, no AKI\n",
            "loading 4290..."
          ]
        },
        {
          "output_type": "stream",
          "name": "stderr",
          "text": [
            "<ipython-input-3-4ec4a0651c2d>:43: FutureWarning: The frame.append method is deprecated and will be removed from pandas in a future version. Use pandas.concat instead.\n",
            "  df = df.append(row, ignore_index=True)\n"
          ]
        },
        {
          "output_type": "stream",
          "name": "stdout",
          "text": [
            "0.89 -> 0.79, no AKI\n",
            "loading 4302..."
          ]
        },
        {
          "output_type": "stream",
          "name": "stderr",
          "text": [
            "<ipython-input-3-4ec4a0651c2d>:43: FutureWarning: The frame.append method is deprecated and will be removed from pandas in a future version. Use pandas.concat instead.\n",
            "  df = df.append(row, ignore_index=True)\n"
          ]
        },
        {
          "output_type": "stream",
          "name": "stdout",
          "text": [
            "0.66 -> 0.74, no AKI\n",
            "loading 2255..."
          ]
        },
        {
          "output_type": "stream",
          "name": "stderr",
          "text": [
            "<ipython-input-3-4ec4a0651c2d>:43: FutureWarning: The frame.append method is deprecated and will be removed from pandas in a future version. Use pandas.concat instead.\n",
            "  df = df.append(row, ignore_index=True)\n"
          ]
        },
        {
          "output_type": "stream",
          "name": "stdout",
          "text": [
            "0.88 -> 0.72, no AKI\n",
            "loading 4308...no preop cr\n",
            "loading 2265..."
          ]
        },
        {
          "output_type": "stream",
          "name": "stderr",
          "text": [
            "<ipython-input-3-4ec4a0651c2d>:43: FutureWarning: The frame.append method is deprecated and will be removed from pandas in a future version. Use pandas.concat instead.\n",
            "  df = df.append(row, ignore_index=True)\n"
          ]
        },
        {
          "output_type": "stream",
          "name": "stdout",
          "text": [
            "0.84 -> 0.66, no AKI\n",
            "loading 2272..."
          ]
        },
        {
          "output_type": "stream",
          "name": "stderr",
          "text": [
            "<ipython-input-3-4ec4a0651c2d>:43: FutureWarning: The frame.append method is deprecated and will be removed from pandas in a future version. Use pandas.concat instead.\n",
            "  df = df.append(row, ignore_index=True)\n"
          ]
        },
        {
          "output_type": "stream",
          "name": "stdout",
          "text": [
            "1.2 -> 1.79, no AKI\n",
            "loading 6372..."
          ]
        },
        {
          "output_type": "stream",
          "name": "stderr",
          "text": [
            "<ipython-input-3-4ec4a0651c2d>:43: FutureWarning: The frame.append method is deprecated and will be removed from pandas in a future version. Use pandas.concat instead.\n",
            "  df = df.append(row, ignore_index=True)\n"
          ]
        },
        {
          "output_type": "stream",
          "name": "stdout",
          "text": [
            "1.01 -> 0.76, no AKI\n",
            "loading 232...no postop cr\n",
            "loading 4328..."
          ]
        },
        {
          "output_type": "stream",
          "name": "stderr",
          "text": [
            "<ipython-input-3-4ec4a0651c2d>:43: FutureWarning: The frame.append method is deprecated and will be removed from pandas in a future version. Use pandas.concat instead.\n",
            "  df = df.append(row, ignore_index=True)\n"
          ]
        },
        {
          "output_type": "stream",
          "name": "stdout",
          "text": [
            "1.33 -> 1.78, no AKI\n",
            "loading 239..."
          ]
        },
        {
          "output_type": "stream",
          "name": "stderr",
          "text": [
            "<ipython-input-3-4ec4a0651c2d>:43: FutureWarning: The frame.append method is deprecated and will be removed from pandas in a future version. Use pandas.concat instead.\n",
            "  df = df.append(row, ignore_index=True)\n"
          ]
        },
        {
          "output_type": "stream",
          "name": "stdout",
          "text": [
            "0.79 -> 1.45, AKI\n",
            "loading 6383..."
          ]
        },
        {
          "output_type": "stream",
          "name": "stderr",
          "text": [
            "<ipython-input-3-4ec4a0651c2d>:43: FutureWarning: The frame.append method is deprecated and will be removed from pandas in a future version. Use pandas.concat instead.\n",
            "  df = df.append(row, ignore_index=True)\n"
          ]
        },
        {
          "output_type": "stream",
          "name": "stdout",
          "text": [
            "6.7 -> 6.14, no AKI\n",
            "loading 242...no postop cr\n",
            "loading 243...no postop cr\n",
            "loading 250..."
          ]
        },
        {
          "output_type": "stream",
          "name": "stderr",
          "text": [
            "<ipython-input-3-4ec4a0651c2d>:43: FutureWarning: The frame.append method is deprecated and will be removed from pandas in a future version. Use pandas.concat instead.\n",
            "  df = df.append(row, ignore_index=True)\n"
          ]
        },
        {
          "output_type": "stream",
          "name": "stdout",
          "text": [
            "0.79 -> 0.73, no AKI\n",
            "loading 264...no postop cr\n",
            "loading 268..."
          ]
        },
        {
          "output_type": "stream",
          "name": "stderr",
          "text": [
            "<ipython-input-3-4ec4a0651c2d>:43: FutureWarning: The frame.append method is deprecated and will be removed from pandas in a future version. Use pandas.concat instead.\n",
            "  df = df.append(row, ignore_index=True)\n"
          ]
        },
        {
          "output_type": "stream",
          "name": "stdout",
          "text": [
            "0.86 -> 0.86, no AKI\n",
            "loading 2327..."
          ]
        },
        {
          "output_type": "stream",
          "name": "stderr",
          "text": [
            "<ipython-input-3-4ec4a0651c2d>:43: FutureWarning: The frame.append method is deprecated and will be removed from pandas in a future version. Use pandas.concat instead.\n",
            "  df = df.append(row, ignore_index=True)\n"
          ]
        },
        {
          "output_type": "stream",
          "name": "stdout",
          "text": [
            "0.61 -> 1.0, AKI\n",
            "loading 2331..."
          ]
        },
        {
          "output_type": "stream",
          "name": "stderr",
          "text": [
            "<ipython-input-3-4ec4a0651c2d>:43: FutureWarning: The frame.append method is deprecated and will be removed from pandas in a future version. Use pandas.concat instead.\n",
            "  df = df.append(row, ignore_index=True)\n"
          ]
        },
        {
          "output_type": "stream",
          "name": "stdout",
          "text": [
            "1.37 -> 0.99, no AKI\n",
            "loading 284..."
          ]
        },
        {
          "output_type": "stream",
          "name": "stderr",
          "text": [
            "<ipython-input-3-4ec4a0651c2d>:43: FutureWarning: The frame.append method is deprecated and will be removed from pandas in a future version. Use pandas.concat instead.\n",
            "  df = df.append(row, ignore_index=True)\n"
          ]
        },
        {
          "output_type": "stream",
          "name": "stdout",
          "text": [
            "6.82 -> 5.98, no AKI\n",
            "loading 2337..."
          ]
        },
        {
          "output_type": "stream",
          "name": "stderr",
          "text": [
            "<ipython-input-3-4ec4a0651c2d>:43: FutureWarning: The frame.append method is deprecated and will be removed from pandas in a future version. Use pandas.concat instead.\n",
            "  df = df.append(row, ignore_index=True)\n"
          ]
        },
        {
          "output_type": "stream",
          "name": "stdout",
          "text": [
            "8.78 -> 8.65, no AKI\n",
            "loading 2345..."
          ]
        },
        {
          "output_type": "stream",
          "name": "stderr",
          "text": [
            "<ipython-input-3-4ec4a0651c2d>:43: FutureWarning: The frame.append method is deprecated and will be removed from pandas in a future version. Use pandas.concat instead.\n",
            "  df = df.append(row, ignore_index=True)\n"
          ]
        },
        {
          "output_type": "stream",
          "name": "stdout",
          "text": [
            "1.28 -> 1.15, no AKI\n",
            "loading 4408..."
          ]
        },
        {
          "output_type": "stream",
          "name": "stderr",
          "text": [
            "<ipython-input-3-4ec4a0651c2d>:43: FutureWarning: The frame.append method is deprecated and will be removed from pandas in a future version. Use pandas.concat instead.\n",
            "  df = df.append(row, ignore_index=True)\n"
          ]
        },
        {
          "output_type": "stream",
          "name": "stdout",
          "text": [
            "0.58 -> 0.63, no AKI\n",
            "loading 2372..."
          ]
        },
        {
          "output_type": "stream",
          "name": "stderr",
          "text": [
            "<ipython-input-3-4ec4a0651c2d>:43: FutureWarning: The frame.append method is deprecated and will be removed from pandas in a future version. Use pandas.concat instead.\n",
            "  df = df.append(row, ignore_index=True)\n"
          ]
        },
        {
          "output_type": "stream",
          "name": "stdout",
          "text": [
            "0.95 -> 1.03, no AKI\n",
            "loading 2373..."
          ]
        },
        {
          "output_type": "stream",
          "name": "stderr",
          "text": [
            "<ipython-input-3-4ec4a0651c2d>:43: FutureWarning: The frame.append method is deprecated and will be removed from pandas in a future version. Use pandas.concat instead.\n",
            "  df = df.append(row, ignore_index=True)\n"
          ]
        },
        {
          "output_type": "stream",
          "name": "stdout",
          "text": [
            "0.51 -> 0.55, no AKI\n",
            "loading 4433..."
          ]
        },
        {
          "output_type": "stream",
          "name": "stderr",
          "text": [
            "<ipython-input-3-4ec4a0651c2d>:43: FutureWarning: The frame.append method is deprecated and will be removed from pandas in a future version. Use pandas.concat instead.\n",
            "  df = df.append(row, ignore_index=True)\n"
          ]
        },
        {
          "output_type": "stream",
          "name": "stdout",
          "text": [
            "1.0 -> 1.07, no AKI\n",
            "loading 349..."
          ]
        },
        {
          "output_type": "stream",
          "name": "stderr",
          "text": [
            "<ipython-input-3-4ec4a0651c2d>:43: FutureWarning: The frame.append method is deprecated and will be removed from pandas in a future version. Use pandas.concat instead.\n",
            "  df = df.append(row, ignore_index=True)\n"
          ]
        },
        {
          "output_type": "stream",
          "name": "stdout",
          "text": [
            "1.07 -> 1.61, AKI\n",
            "loading 4449..."
          ]
        },
        {
          "output_type": "stream",
          "name": "stderr",
          "text": [
            "<ipython-input-3-4ec4a0651c2d>:43: FutureWarning: The frame.append method is deprecated and will be removed from pandas in a future version. Use pandas.concat instead.\n",
            "  df = df.append(row, ignore_index=True)\n"
          ]
        },
        {
          "output_type": "stream",
          "name": "stdout",
          "text": [
            "0.21 -> 0.3, no AKI\n",
            "loading 355..."
          ]
        },
        {
          "output_type": "stream",
          "name": "stderr",
          "text": [
            "<ipython-input-3-4ec4a0651c2d>:43: FutureWarning: The frame.append method is deprecated and will be removed from pandas in a future version. Use pandas.concat instead.\n",
            "  df = df.append(row, ignore_index=True)\n"
          ]
        },
        {
          "output_type": "stream",
          "name": "stdout",
          "text": [
            "2.24 -> 1.45, no AKI\n",
            "loading 4465..."
          ]
        },
        {
          "output_type": "stream",
          "name": "stderr",
          "text": [
            "<ipython-input-3-4ec4a0651c2d>:43: FutureWarning: The frame.append method is deprecated and will be removed from pandas in a future version. Use pandas.concat instead.\n",
            "  df = df.append(row, ignore_index=True)\n"
          ]
        },
        {
          "output_type": "stream",
          "name": "stdout",
          "text": [
            "9.27 -> 7.3, no AKI\n",
            "loading 370...no preop cr\n",
            "loading 381...no preop cr\n",
            "loading 2432..."
          ]
        },
        {
          "output_type": "stream",
          "name": "stderr",
          "text": [
            "<ipython-input-3-4ec4a0651c2d>:43: FutureWarning: The frame.append method is deprecated and will be removed from pandas in a future version. Use pandas.concat instead.\n",
            "  df = df.append(row, ignore_index=True)\n"
          ]
        },
        {
          "output_type": "stream",
          "name": "stdout",
          "text": [
            "no preop cr\n",
            "loading 387...2.05 -> 1.49, no AKI\n",
            "loading 4489..."
          ]
        },
        {
          "output_type": "stream",
          "name": "stderr",
          "text": [
            "<ipython-input-3-4ec4a0651c2d>:43: FutureWarning: The frame.append method is deprecated and will be removed from pandas in a future version. Use pandas.concat instead.\n",
            "  df = df.append(row, ignore_index=True)\n"
          ]
        },
        {
          "output_type": "stream",
          "name": "stdout",
          "text": [
            "0.66 -> 0.76, no AKI\n",
            "loading 2447..."
          ]
        },
        {
          "output_type": "stream",
          "name": "stderr",
          "text": [
            "<ipython-input-3-4ec4a0651c2d>:43: FutureWarning: The frame.append method is deprecated and will be removed from pandas in a future version. Use pandas.concat instead.\n",
            "  df = df.append(row, ignore_index=True)\n"
          ]
        },
        {
          "output_type": "stream",
          "name": "stdout",
          "text": [
            "1.02 -> 1.12, no AKI\n",
            "loading 4496..."
          ]
        },
        {
          "output_type": "stream",
          "name": "stderr",
          "text": [
            "<ipython-input-3-4ec4a0651c2d>:43: FutureWarning: The frame.append method is deprecated and will be removed from pandas in a future version. Use pandas.concat instead.\n",
            "  df = df.append(row, ignore_index=True)\n"
          ]
        },
        {
          "output_type": "stream",
          "name": "stdout",
          "text": [
            "0.57 -> 0.53, no AKI\n",
            "loading 406..."
          ]
        },
        {
          "output_type": "stream",
          "name": "stderr",
          "text": [
            "<ipython-input-3-4ec4a0651c2d>:43: FutureWarning: The frame.append method is deprecated and will be removed from pandas in a future version. Use pandas.concat instead.\n",
            "  df = df.append(row, ignore_index=True)\n"
          ]
        },
        {
          "output_type": "stream",
          "name": "stdout",
          "text": [
            "8.96 -> 8.5, no AKI\n",
            "loading 4509..."
          ]
        },
        {
          "output_type": "stream",
          "name": "stderr",
          "text": [
            "<ipython-input-3-4ec4a0651c2d>:43: FutureWarning: The frame.append method is deprecated and will be removed from pandas in a future version. Use pandas.concat instead.\n",
            "  df = df.append(row, ignore_index=True)\n"
          ]
        },
        {
          "output_type": "stream",
          "name": "stdout",
          "text": [
            "10.76 -> 6.83, no AKI\n",
            "loading 415..."
          ]
        },
        {
          "output_type": "stream",
          "name": "stderr",
          "text": [
            "<ipython-input-3-4ec4a0651c2d>:43: FutureWarning: The frame.append method is deprecated and will be removed from pandas in a future version. Use pandas.concat instead.\n",
            "  df = df.append(row, ignore_index=True)\n"
          ]
        },
        {
          "output_type": "stream",
          "name": "stdout",
          "text": [
            "0.51 -> 0.45, no AKI\n",
            "loading 427..."
          ]
        },
        {
          "output_type": "stream",
          "name": "stderr",
          "text": [
            "<ipython-input-3-4ec4a0651c2d>:43: FutureWarning: The frame.append method is deprecated and will be removed from pandas in a future version. Use pandas.concat instead.\n",
            "  df = df.append(row, ignore_index=True)\n"
          ]
        },
        {
          "output_type": "stream",
          "name": "stdout",
          "text": [
            "0.91 -> 0.8, no AKI\n",
            "loading 431..."
          ]
        },
        {
          "output_type": "stream",
          "name": "stderr",
          "text": [
            "<ipython-input-3-4ec4a0651c2d>:43: FutureWarning: The frame.append method is deprecated and will be removed from pandas in a future version. Use pandas.concat instead.\n",
            "  df = df.append(row, ignore_index=True)\n"
          ]
        },
        {
          "output_type": "stream",
          "name": "stdout",
          "text": [
            "15.12 -> 13.18, no AKI\n",
            "loading 2480..."
          ]
        },
        {
          "output_type": "stream",
          "name": "stderr",
          "text": [
            "<ipython-input-3-4ec4a0651c2d>:43: FutureWarning: The frame.append method is deprecated and will be removed from pandas in a future version. Use pandas.concat instead.\n",
            "  df = df.append(row, ignore_index=True)\n"
          ]
        },
        {
          "output_type": "stream",
          "name": "stdout",
          "text": [
            "0.46 -> 0.55, no AKI\n",
            "loading 441...no preop cr\n",
            "loading 4538...no preop cr\n",
            "loading 2494..."
          ]
        },
        {
          "output_type": "stream",
          "name": "stderr",
          "text": [
            "<ipython-input-3-4ec4a0651c2d>:43: FutureWarning: The frame.append method is deprecated and will be removed from pandas in a future version. Use pandas.concat instead.\n",
            "  df = df.append(row, ignore_index=True)\n"
          ]
        },
        {
          "output_type": "stream",
          "name": "stdout",
          "text": [
            "0.73 -> 0.63, no AKI\n",
            "loading 2501..."
          ]
        },
        {
          "output_type": "stream",
          "name": "stderr",
          "text": [
            "<ipython-input-3-4ec4a0651c2d>:43: FutureWarning: The frame.append method is deprecated and will be removed from pandas in a future version. Use pandas.concat instead.\n",
            "  df = df.append(row, ignore_index=True)\n"
          ]
        },
        {
          "output_type": "stream",
          "name": "stdout",
          "text": [
            "1.03 -> 1.05, no AKI\n",
            "loading 2504..."
          ]
        },
        {
          "output_type": "stream",
          "name": "stderr",
          "text": [
            "<ipython-input-3-4ec4a0651c2d>:43: FutureWarning: The frame.append method is deprecated and will be removed from pandas in a future version. Use pandas.concat instead.\n",
            "  df = df.append(row, ignore_index=True)\n"
          ]
        },
        {
          "output_type": "stream",
          "name": "stdout",
          "text": [
            "0.72 -> 0.61, no AKI\n",
            "loading 4556..."
          ]
        },
        {
          "output_type": "stream",
          "name": "stderr",
          "text": [
            "<ipython-input-3-4ec4a0651c2d>:43: FutureWarning: The frame.append method is deprecated and will be removed from pandas in a future version. Use pandas.concat instead.\n",
            "  df = df.append(row, ignore_index=True)\n"
          ]
        },
        {
          "output_type": "stream",
          "name": "stdout",
          "text": [
            "0.9 -> 0.9, no AKI\n",
            "loading 464...no postop cr\n",
            "loading 2516..."
          ]
        },
        {
          "output_type": "stream",
          "name": "stderr",
          "text": [
            "<ipython-input-3-4ec4a0651c2d>:43: FutureWarning: The frame.append method is deprecated and will be removed from pandas in a future version. Use pandas.concat instead.\n",
            "  df = df.append(row, ignore_index=True)\n"
          ]
        },
        {
          "output_type": "stream",
          "name": "stdout",
          "text": [
            "1.23 -> 1.86, AKI\n",
            "loading 476...no preop cr\n",
            "loading 477..."
          ]
        },
        {
          "output_type": "stream",
          "name": "stderr",
          "text": [
            "<ipython-input-3-4ec4a0651c2d>:43: FutureWarning: The frame.append method is deprecated and will be removed from pandas in a future version. Use pandas.concat instead.\n",
            "  df = df.append(row, ignore_index=True)\n"
          ]
        },
        {
          "output_type": "stream",
          "name": "stdout",
          "text": [
            "0.58 -> 0.43, no AKI\n",
            "7 AKI 9.2%\n"
          ]
        },
        {
          "output_type": "stream",
          "name": "stderr",
          "text": [
            "<ipython-input-3-4ec4a0651c2d>:43: FutureWarning: The frame.append method is deprecated and will be removed from pandas in a future version. Use pandas.concat instead.\n",
            "  df = df.append(row, ignore_index=True)\n"
          ]
        }
      ],
      "source": [
        "# Set blood pressure threshold\n",
        "mbp_thresholds = np.arange(40, 80)\n",
        "\n",
        "# Save the final result\n",
        "df = pd.DataFrame()\n",
        "for caseid in caseids:\n",
        "    print('loading {}...'.format(caseid), flush=True, end='')\n",
        "\n",
        "    # Column ['anend'] : anesthesia end time\n",
        "    aneend = df_cases[(df_cases['caseid'] == caseid)]['aneend'].values[0]\n",
        "\n",
        "    # Last creatinine concentration before surgery\n",
        "    preop_cr = df_labs[(df_labs['caseid'] == caseid) & (df_labs['dt'] < 0) & (df_labs['name'] == 'cr')].sort_values(by=['dt'], axis=0, ascending=False)['result'].values.flatten()\n",
        "    if len(preop_cr) == 0:\n",
        "        print('no preop cr')\n",
        "        continue\n",
        "    preop_cr = preop_cr[0]\n",
        "\n",
        "    # Maximum creatinine concentration within 48 hours after surgery\n",
        "    postop_cr = df_labs[(df_labs['caseid'] == caseid) & (df_labs['dt'] > aneend) &\n",
        "        (df_labs['dt'] < aneend + 48 * 3600) & (df_labs['name'] == 'cr')]['result'].max(skipna=True)\n",
        "    if not postop_cr or np.isnan(postop_cr):\n",
        "        print('no postop cr')\n",
        "        continue\n",
        "\n",
        "    # KDIGO stage I\n",
        "    aki = postop_cr > preop_cr * 1.5\n",
        "\n",
        "    # Blood pressure during surgery\n",
        "    mbps = vitaldb.load_case(caseid, 'ART_MBP').flatten()\n",
        "    mbps = mbps[~np.isnan(mbps)]\n",
        "    mbps = mbps[(mbps > 20) & (mbps < 150)]\n",
        "    if len(mbps) < 10:\n",
        "        print('no mbp')\n",
        "        continue\n",
        "\n",
        "    # Calculate the percentage that stays for the time as increasing the blood pressure by 1 unit.\n",
        "    row = {'aki':aki}\n",
        "    for mbp_threshold in mbp_thresholds:\n",
        "        row['under{}'.format(mbp_threshold)] = np.nanmean(mbps < mbp_threshold) * 100\n",
        "\n",
        "    # Append the result into row\n",
        "    df = df.append(row, ignore_index=True)\n",
        "\n",
        "    print('{} -> {}, {}'.format(preop_cr, postop_cr, 'AKI' if aki else 'no AKI'))\n",
        "\n",
        "print('{} AKI {:.1f}%'.format(df['aki'].sum(), df['aki'].mean() * 100))"
      ]
    },
    {
      "cell_type": "markdown",
      "metadata": {
        "id": "YYHU8na4WV-0"
      },
      "source": [
        "## Calculate the odds ratio for AKI prediction depending on blood pressure threshold\n",
        "\n",
        "- Let's calculate the odds ratio regarding how much each BP class increases the risk of AKI, using the above-measured values."
      ]
    },
    {
      "cell_type": "code",
      "execution_count": 4,
      "metadata": {
        "colab": {
          "base_uri": "https://localhost:8080/"
        },
        "id": "X5O0yxHJWcjh",
        "outputId": "5e8a5f9d-e423-48b3-dd4f-824174845d5a"
      },
      "outputs": [
        {
          "output_type": "stream",
          "name": "stdout",
          "text": [
            "Optimization terminated successfully.\n",
            "         Current function value: 0.278640\n",
            "         Iterations 7\n",
            "under40\tb=0.329, exp(b)=1.390, pval=0.026\n",
            "Optimization terminated successfully.\n",
            "         Current function value: 0.276060\n",
            "         Iterations 7\n",
            "under41\tb=0.311, exp(b)=1.365, pval=0.022\n",
            "Optimization terminated successfully.\n",
            "         Current function value: 0.275147\n",
            "         Iterations 7\n",
            "under42\tb=0.285, exp(b)=1.329, pval=0.023\n",
            "Optimization terminated successfully.\n",
            "         Current function value: 0.269124\n",
            "         Iterations 7\n",
            "under43\tb=0.271, exp(b)=1.312, pval=0.016\n",
            "Optimization terminated successfully.\n",
            "         Current function value: 0.263108\n",
            "         Iterations 7\n",
            "under44\tb=0.247, exp(b)=1.280, pval=0.010\n",
            "Optimization terminated successfully.\n",
            "         Current function value: 0.260074\n",
            "         Iterations 7\n",
            "under45\tb=0.212, exp(b)=1.236, pval=0.012\n",
            "Optimization terminated successfully.\n",
            "         Current function value: 0.257080\n",
            "         Iterations 7\n",
            "under46\tb=0.181, exp(b)=1.199, pval=0.015\n",
            "Optimization terminated successfully.\n",
            "         Current function value: 0.256225\n",
            "         Iterations 7\n",
            "under47\tb=0.153, exp(b)=1.166, pval=0.021\n",
            "Optimization terminated successfully.\n",
            "         Current function value: 0.253702\n",
            "         Iterations 7\n",
            "under48\tb=0.135, exp(b)=1.144, pval=0.020\n",
            "Optimization terminated successfully.\n",
            "         Current function value: 0.248523\n",
            "         Iterations 7\n",
            "under49\tb=0.125, exp(b)=1.133, pval=0.015\n",
            "Optimization terminated successfully.\n",
            "         Current function value: 0.244306\n",
            "         Iterations 7\n",
            "under50\tb=0.114, exp(b)=1.121, pval=0.010\n",
            "Optimization terminated successfully.\n",
            "         Current function value: 0.238924\n",
            "         Iterations 7\n",
            "under51\tb=0.104, exp(b)=1.110, pval=0.006\n",
            "Optimization terminated successfully.\n",
            "         Current function value: 0.238552\n",
            "         Iterations 7\n",
            "under52\tb=0.095, exp(b)=1.100, pval=0.005\n",
            "Optimization terminated successfully.\n",
            "         Current function value: 0.237661\n",
            "         Iterations 7\n",
            "under53\tb=0.087, exp(b)=1.090, pval=0.004\n",
            "Optimization terminated successfully.\n",
            "         Current function value: 0.238319\n",
            "         Iterations 7\n",
            "under54\tb=0.080, exp(b)=1.083, pval=0.004\n",
            "Optimization terminated successfully.\n",
            "         Current function value: 0.239298\n",
            "         Iterations 7\n",
            "under55\tb=0.073, exp(b)=1.076, pval=0.003\n",
            "Optimization terminated successfully.\n",
            "         Current function value: 0.241085\n",
            "         Iterations 7\n",
            "under56\tb=0.067, exp(b)=1.069, pval=0.003\n",
            "Optimization terminated successfully.\n",
            "         Current function value: 0.242355\n",
            "         Iterations 7\n",
            "under57\tb=0.062, exp(b)=1.064, pval=0.003\n",
            "Optimization terminated successfully.\n",
            "         Current function value: 0.243113\n",
            "         Iterations 7\n",
            "under58\tb=0.057, exp(b)=1.059, pval=0.002\n",
            "Optimization terminated successfully.\n",
            "         Current function value: 0.245366\n",
            "         Iterations 7\n",
            "under59\tb=0.053, exp(b)=1.055, pval=0.003\n",
            "Optimization terminated successfully.\n",
            "         Current function value: 0.246216\n",
            "         Iterations 7\n",
            "under60\tb=0.050, exp(b)=1.052, pval=0.003\n",
            "Optimization terminated successfully.\n",
            "         Current function value: 0.248496\n",
            "         Iterations 7\n",
            "under61\tb=0.048, exp(b)=1.049, pval=0.003\n",
            "Optimization terminated successfully.\n",
            "         Current function value: 0.252137\n",
            "         Iterations 7\n",
            "under62\tb=0.045, exp(b)=1.046, pval=0.004\n",
            "Optimization terminated successfully.\n",
            "         Current function value: 0.256010\n",
            "         Iterations 7\n",
            "under63\tb=0.042, exp(b)=1.043, pval=0.005\n",
            "Optimization terminated successfully.\n",
            "         Current function value: 0.260325\n",
            "         Iterations 7\n",
            "under64\tb=0.039, exp(b)=1.040, pval=0.006\n",
            "Optimization terminated successfully.\n",
            "         Current function value: 0.264558\n",
            "         Iterations 7\n",
            "under65\tb=0.037, exp(b)=1.037, pval=0.009\n",
            "Optimization terminated successfully.\n",
            "         Current function value: 0.268627\n",
            "         Iterations 7\n",
            "under66\tb=0.034, exp(b)=1.035, pval=0.012\n",
            "Optimization terminated successfully.\n",
            "         Current function value: 0.272879\n",
            "         Iterations 7\n",
            "under67\tb=0.032, exp(b)=1.033, pval=0.018\n",
            "Optimization terminated successfully.\n",
            "         Current function value: 0.276888\n",
            "         Iterations 7\n",
            "under68\tb=0.030, exp(b)=1.030, pval=0.026\n",
            "Optimization terminated successfully.\n",
            "         Current function value: 0.280960\n",
            "         Iterations 7\n",
            "under69\tb=0.028, exp(b)=1.028, pval=0.038\n",
            "Optimization terminated successfully.\n",
            "         Current function value: 0.284386\n",
            "         Iterations 7\n",
            "under70\tb=0.025, exp(b)=1.026, pval=0.053\n",
            "Optimization terminated successfully.\n",
            "         Current function value: 0.287273\n",
            "         Iterations 7\n",
            "under71\tb=0.024, exp(b)=1.024, pval=0.071\n",
            "Optimization terminated successfully.\n",
            "         Current function value: 0.289687\n",
            "         Iterations 7\n",
            "under72\tb=0.022, exp(b)=1.022, pval=0.091\n",
            "Optimization terminated successfully.\n",
            "         Current function value: 0.292085\n",
            "         Iterations 7\n",
            "under73\tb=0.020, exp(b)=1.021, pval=0.117\n",
            "Optimization terminated successfully.\n",
            "         Current function value: 0.294417\n",
            "         Iterations 7\n",
            "under74\tb=0.019, exp(b)=1.019, pval=0.150\n",
            "Optimization terminated successfully.\n",
            "         Current function value: 0.296350\n",
            "         Iterations 7\n",
            "under75\tb=0.017, exp(b)=1.017, pval=0.186\n",
            "Optimization terminated successfully.\n",
            "         Current function value: 0.297488\n",
            "         Iterations 7\n",
            "under76\tb=0.016, exp(b)=1.016, pval=0.212\n",
            "Optimization terminated successfully.\n",
            "         Current function value: 0.298386\n",
            "         Iterations 7\n",
            "under77\tb=0.016, exp(b)=1.016, pval=0.236\n",
            "Optimization terminated successfully.\n",
            "         Current function value: 0.298604\n",
            "         Iterations 7\n",
            "under78\tb=0.016, exp(b)=1.016, pval=0.245\n",
            "Optimization terminated successfully.\n",
            "         Current function value: 0.298320\n",
            "         Iterations 7\n",
            "under79\tb=0.016, exp(b)=1.016, pval=0.240\n"
          ]
        }
      ],
      "source": [
        "import statsmodels.api as sm\n",
        "\n",
        "# Get odd ration using univariate logistic regression\n",
        "df['intercept'] = 1\n",
        "df['aki'] = df['aki'].astype(bool)\n",
        "odd_ratios = []\n",
        "for mbp_threshold in mbp_thresholds:\n",
        "    c = 'under{}'.format(mbp_threshold)\n",
        "    model = sm.Logit(df['aki'], df[['intercept', c]])\n",
        "    res = model.fit()\n",
        "    b = res.params[c]\n",
        "    pval = res.pvalues[c]\n",
        "    odd_ratios.append(np.exp(b))\n",
        "    print('{}\\tb={:.3f}, exp(b)={:.3f}, pval={:.3f}'.format(c, b, np.exp(b), pval))"
      ]
    },
    {
      "cell_type": "markdown",
      "metadata": {
        "id": "baARXo6kWeO4"
      },
      "source": [
        "## Draw a graph\n",
        "- You can find out that the odds ratio of AKI increases as the MBP stays below 60-65mmHg longer.\n"
      ]
    },
    {
      "cell_type": "code",
      "execution_count": 7,
      "metadata": {
        "colab": {
          "base_uri": "https://localhost:8080/",
          "height": 449
        },
        "id": "mut5q3MeWnKQ",
        "outputId": "17f1f5d7-2e26-4190-f603-1745408b9e79"
      },
      "outputs": [
        {
          "output_type": "display_data",
          "data": {
            "text/plain": [
              "<Figure size 640x480 with 1 Axes>"
            ],
            "image/png": "[encoded data removed]"
          },
          "metadata": {}
        }
      ],
      "source": [
        "import matplotlib.pyplot as plt\n",
        "plt.plot(mbp_thresholds, odd_ratios)\n",
        "plt.xlabel('MBP threshold (mmHg)')\n",
        "plt.ylabel('Odd ratio')\n",
        "plt.show()"
      ]
    }
  ],
  "metadata": {
    "colab": {
      "name": "mbp_aki.ipynb",
      "provenance": [],
      "include_colab_link": true
    },
    "kernelspec": {
      "display_name": "Python 3 (ipykernel)",
      "language": "python",
      "name": "python3"
    },
    "language_info": {
      "codemirror_mode": {
        "name": "ipython",
        "version": 3
      },
      "file_extension": ".py",
      "mimetype": "text/x-python",
      "name": "python",
      "nbconvert_exporter": "python",
      "pygments_lexer": "ipython3",
      "version": "3.9.12"
    }
  },
  "nbformat": 4,
  "nbformat_minor": 0
}